{
 "cells": [
  {
   "cell_type": "code",
   "execution_count": 11,
   "id": "cf8d71e5-b5cb-4ef5-b723-207b1adeb2c3",
   "metadata": {},
   "outputs": [],
   "source": [
    "import os\n",
    "import numpy as np\n",
    "import pandas as pd\n",
    "import torch\n",
    "from torch.utils.data import Dataset\n",
    "import cv2\n",
    "import random\n",
    "\n",
    "class CTSliceDataset(Dataset):\n",
    "    def __init__(self, metadata_csv, slice_range=(24, 40), img_size=224, augment=False):\n",
    "        self.df = pd.read_csv(metadata_csv)\n",
    "        self.slice_range = slice_range\n",
    "        self.img_size = img_size\n",
    "        self.augment = augment\n",
    "\n",
    "        # Filter: CT must exist, label must be valid\n",
    "        self.df = self.df[self.df['label'].isin(['Stage II', 'Stage III', 'Stage IV'])].copy()\n",
    "        self.df['ct'] = self.df['ct'].astype(str)\n",
    "        self.df = self.df[self.df['ct'].str.endswith(\".npy\")]\n",
    "\n",
    "        self.label_map = {'Stage II': 0, 'Stage III': 1, 'Stage IV': 2}\n",
    "        self.samples = []\n",
    "\n",
    "        for _, row in self.df.iterrows():\n",
    "            label = self.label_map[row['label']]\n",
    "            volume_path = row['ct']\n",
    "            if not os.path.exists(volume_path): continue\n",
    "\n",
    "            volume = np.load(volume_path)\n",
    "            start, end = self.slice_range\n",
    "            for i in range(start, end):\n",
    "                if i >= volume.shape[0]: continue\n",
    "                self.samples.append((volume[i], label))\n",
    "\n",
    "    def __len__(self):\n",
    "        return len(self.samples)\n",
    "\n",
    "    def __getitem__(self, idx):\n",
    "        image, label = self.samples[idx]\n",
    "\n",
    "        # Resize image to (224x224)\n",
    "        image = cv2.resize(image, (self.img_size, self.img_size))\n",
    "        image = image.astype(np.float32) / 255.0\n",
    "\n",
    "        # Data augmentation (optional)\n",
    "        if self.augment:\n",
    "            if random.random() < 0.5:\n",
    "                image = np.flip(image, axis=1).copy()\n",
    "            if random.random() < 0.5:\n",
    "                image = np.flip(image, axis=0).copy()\n",
    "\n",
    "        # Add channel dimension\n",
    "        image = np.expand_dims(image, axis=0)\n",
    "        return torch.tensor(image), torch.tensor(label)\n"
   ]
  },
  {
   "cell_type": "code",
   "execution_count": 13,
   "id": "7aa96179-ed7b-47ee-a509-39f6a3300a8d",
   "metadata": {},
   "outputs": [],
   "source": [
    "dataset = CTSliceDataset(r\"F:\\INT500\\CLAUDE\\processed_data\\metadata.csv\", augment=True)"
   ]
  },
  {
   "cell_type": "code",
   "execution_count": 15,
   "id": "53b17a19-cd2c-4db8-9e39-e973597dbaf8",
   "metadata": {},
   "outputs": [
    {
     "name": "stderr",
     "output_type": "stream",
     "text": [
      "D:\\Python\\Lib\\site-packages\\torchvision\\models\\_utils.py:208: UserWarning: The parameter 'pretrained' is deprecated since 0.13 and may be removed in the future, please use 'weights' instead.\n",
      "  warnings.warn(\n",
      "D:\\Python\\Lib\\site-packages\\torchvision\\models\\_utils.py:223: UserWarning: Arguments other than a weight enum or `None` for 'weights' are deprecated since 0.13 and may be removed in the future. The current behavior is equivalent to passing `weights=ResNet18_Weights.IMAGENET1K_V1`. You can also use `weights=ResNet18_Weights.DEFAULT` to get the most up-to-date weights.\n",
      "  warnings.warn(msg)\n",
      "Epoch 1/30: 100%|██████████████████████████████████████████████████████████████████████| 43/43 [02:03<00:00,  2.88s/it]\n"
     ]
    },
    {
     "name": "stdout",
     "output_type": "stream",
     "text": [
      "\n",
      "⏱ Epoch Time: 133.82s\n",
      "📉 Train Loss: 0.6870 | 🟢 Train Acc: 0.7146\n",
      "📉 Val Loss:   1.4012 | 🔵 Val Acc:   0.4240\n"
     ]
    },
    {
     "name": "stderr",
     "output_type": "stream",
     "text": [
      "Epoch 2/30: 100%|██████████████████████████████████████████████████████████████████████| 43/43 [02:04<00:00,  2.90s/it]\n"
     ]
    },
    {
     "name": "stdout",
     "output_type": "stream",
     "text": [
      "\n",
      "⏱ Epoch Time: 134.80s\n",
      "📉 Train Loss: 0.2139 | 🟢 Train Acc: 0.9453\n",
      "📉 Val Loss:   0.2893 | 🔵 Val Acc:   0.9035\n"
     ]
    },
    {
     "name": "stderr",
     "output_type": "stream",
     "text": [
      "Epoch 3/30: 100%|██████████████████████████████████████████████████████████████████████| 43/43 [02:04<00:00,  2.90s/it]\n"
     ]
    },
    {
     "name": "stdout",
     "output_type": "stream",
     "text": [
      "\n",
      "⏱ Epoch Time: 134.66s\n",
      "📉 Train Loss: 0.0983 | 🟢 Train Acc: 0.9723\n",
      "📉 Val Loss:   0.0810 | 🔵 Val Acc:   0.9737\n"
     ]
    },
    {
     "name": "stderr",
     "output_type": "stream",
     "text": [
      "Epoch 4/30: 100%|██████████████████████████████████████████████████████████████████████| 43/43 [02:05<00:00,  2.92s/it]\n"
     ]
    },
    {
     "name": "stdout",
     "output_type": "stream",
     "text": [
      "\n",
      "⏱ Epoch Time: 135.75s\n",
      "📉 Train Loss: 0.0613 | 🟢 Train Acc: 0.9810\n",
      "📉 Val Loss:   0.0671 | 🔵 Val Acc:   0.9883\n"
     ]
    },
    {
     "name": "stderr",
     "output_type": "stream",
     "text": [
      "Epoch 5/30: 100%|██████████████████████████████████████████████████████████████████████| 43/43 [02:05<00:00,  2.92s/it]\n"
     ]
    },
    {
     "name": "stdout",
     "output_type": "stream",
     "text": [
      "\n",
      "⏱ Epoch Time: 135.40s\n",
      "📉 Train Loss: 0.0383 | 🟢 Train Acc: 0.9883\n",
      "📉 Val Loss:   0.0563 | 🔵 Val Acc:   0.9883\n"
     ]
    },
    {
     "name": "stderr",
     "output_type": "stream",
     "text": [
      "Epoch 6/30: 100%|██████████████████████████████████████████████████████████████████████| 43/43 [02:04<00:00,  2.90s/it]\n"
     ]
    },
    {
     "name": "stdout",
     "output_type": "stream",
     "text": [
      "\n",
      "⏱ Epoch Time: 134.79s\n",
      "📉 Train Loss: 0.0213 | 🟢 Train Acc: 0.9942\n",
      "📉 Val Loss:   0.0702 | 🔵 Val Acc:   0.9825\n"
     ]
    },
    {
     "name": "stderr",
     "output_type": "stream",
     "text": [
      "Epoch 7/30: 100%|██████████████████████████████████████████████████████████████████████| 43/43 [02:03<00:00,  2.87s/it]\n"
     ]
    },
    {
     "name": "stdout",
     "output_type": "stream",
     "text": [
      "\n",
      "⏱ Epoch Time: 133.60s\n",
      "📉 Train Loss: 0.0108 | 🟢 Train Acc: 0.9985\n",
      "📉 Val Loss:   0.0520 | 🔵 Val Acc:   0.9883\n"
     ]
    },
    {
     "name": "stderr",
     "output_type": "stream",
     "text": [
      "Epoch 8/30: 100%|██████████████████████████████████████████████████████████████████████| 43/43 [02:04<00:00,  2.90s/it]\n"
     ]
    },
    {
     "name": "stdout",
     "output_type": "stream",
     "text": [
      "\n",
      "⏱ Epoch Time: 134.69s\n",
      "📉 Train Loss: 0.0097 | 🟢 Train Acc: 0.9985\n",
      "📉 Val Loss:   0.0534 | 🔵 Val Acc:   0.9854\n"
     ]
    },
    {
     "name": "stderr",
     "output_type": "stream",
     "text": [
      "Epoch 9/30: 100%|██████████████████████████████████████████████████████████████████████| 43/43 [02:03<00:00,  2.88s/it]\n"
     ]
    },
    {
     "name": "stdout",
     "output_type": "stream",
     "text": [
      "\n",
      "⏱ Epoch Time: 133.44s\n",
      "📉 Train Loss: 0.0073 | 🟢 Train Acc: 1.0000\n",
      "📉 Val Loss:   0.0550 | 🔵 Val Acc:   0.9854\n"
     ]
    },
    {
     "name": "stderr",
     "output_type": "stream",
     "text": [
      "Epoch 10/30: 100%|█████████████████████████████████████████████████████████████████████| 43/43 [02:03<00:00,  2.88s/it]\n"
     ]
    },
    {
     "name": "stdout",
     "output_type": "stream",
     "text": [
      "\n",
      "⏱ Epoch Time: 133.83s\n",
      "📉 Train Loss: 0.0057 | 🟢 Train Acc: 1.0000\n",
      "📉 Val Loss:   0.0501 | 🔵 Val Acc:   0.9883\n"
     ]
    },
    {
     "name": "stderr",
     "output_type": "stream",
     "text": [
      "Epoch 11/30: 100%|█████████████████████████████████████████████████████████████████████| 43/43 [02:05<00:00,  2.92s/it]\n"
     ]
    },
    {
     "name": "stdout",
     "output_type": "stream",
     "text": [
      "\n",
      "⏱ Epoch Time: 135.41s\n",
      "📉 Train Loss: 0.0048 | 🟢 Train Acc: 0.9993\n",
      "📉 Val Loss:   0.0454 | 🔵 Val Acc:   0.9912\n"
     ]
    },
    {
     "name": "stderr",
     "output_type": "stream",
     "text": [
      "Epoch 12/30: 100%|█████████████████████████████████████████████████████████████████████| 43/43 [02:18<00:00,  3.23s/it]\n"
     ]
    },
    {
     "name": "stdout",
     "output_type": "stream",
     "text": [
      "\n",
      "⏱ Epoch Time: 148.93s\n",
      "📉 Train Loss: 0.0043 | 🟢 Train Acc: 0.9993\n",
      "📉 Val Loss:   0.0447 | 🔵 Val Acc:   0.9912\n"
     ]
    },
    {
     "name": "stderr",
     "output_type": "stream",
     "text": [
      "Epoch 13/30: 100%|█████████████████████████████████████████████████████████████████████| 43/43 [02:05<00:00,  2.93s/it]\n"
     ]
    },
    {
     "name": "stdout",
     "output_type": "stream",
     "text": [
      "\n",
      "⏱ Epoch Time: 135.97s\n",
      "📉 Train Loss: 0.0053 | 🟢 Train Acc: 1.0000\n",
      "📉 Val Loss:   0.0465 | 🔵 Val Acc:   0.9883\n"
     ]
    },
    {
     "name": "stderr",
     "output_type": "stream",
     "text": [
      "Epoch 14/30: 100%|█████████████████████████████████████████████████████████████████████| 43/43 [02:06<00:00,  2.94s/it]\n"
     ]
    },
    {
     "name": "stdout",
     "output_type": "stream",
     "text": [
      "\n",
      "⏱ Epoch Time: 136.56s\n",
      "📉 Train Loss: 0.0086 | 🟢 Train Acc: 0.9993\n",
      "📉 Val Loss:   0.0531 | 🔵 Val Acc:   0.9883\n"
     ]
    },
    {
     "name": "stderr",
     "output_type": "stream",
     "text": [
      "Epoch 15/30: 100%|█████████████████████████████████████████████████████████████████████| 43/43 [02:05<00:00,  2.93s/it]\n"
     ]
    },
    {
     "name": "stdout",
     "output_type": "stream",
     "text": [
      "\n",
      "⏱ Epoch Time: 135.75s\n",
      "📉 Train Loss: 0.0037 | 🟢 Train Acc: 1.0000\n",
      "📉 Val Loss:   0.0462 | 🔵 Val Acc:   0.9912\n"
     ]
    },
    {
     "name": "stderr",
     "output_type": "stream",
     "text": [
      "Epoch 16/30: 100%|█████████████████████████████████████████████████████████████████████| 43/43 [02:06<00:00,  2.94s/it]\n"
     ]
    },
    {
     "name": "stdout",
     "output_type": "stream",
     "text": [
      "\n",
      "⏱ Epoch Time: 136.31s\n",
      "📉 Train Loss: 0.0034 | 🟢 Train Acc: 1.0000\n",
      "📉 Val Loss:   0.0535 | 🔵 Val Acc:   0.9912\n"
     ]
    },
    {
     "name": "stderr",
     "output_type": "stream",
     "text": [
      "Epoch 17/30: 100%|█████████████████████████████████████████████████████████████████████| 43/43 [02:05<00:00,  2.93s/it]\n"
     ]
    },
    {
     "name": "stdout",
     "output_type": "stream",
     "text": [
      "\n",
      "⏱ Epoch Time: 135.88s\n",
      "📉 Train Loss: 0.0114 | 🟢 Train Acc: 0.9978\n",
      "📉 Val Loss:   0.0433 | 🔵 Val Acc:   0.9912\n"
     ]
    },
    {
     "name": "stderr",
     "output_type": "stream",
     "text": [
      "Epoch 18/30: 100%|█████████████████████████████████████████████████████████████████████| 43/43 [02:06<00:00,  2.93s/it]\n"
     ]
    },
    {
     "name": "stdout",
     "output_type": "stream",
     "text": [
      "\n",
      "⏱ Epoch Time: 136.05s\n",
      "📉 Train Loss: 0.0047 | 🟢 Train Acc: 1.0000\n",
      "📉 Val Loss:   0.0379 | 🔵 Val Acc:   0.9912\n"
     ]
    },
    {
     "name": "stderr",
     "output_type": "stream",
     "text": [
      "Epoch 19/30: 100%|█████████████████████████████████████████████████████████████████████| 43/43 [02:06<00:00,  2.93s/it]\n"
     ]
    },
    {
     "name": "stdout",
     "output_type": "stream",
     "text": [
      "\n",
      "⏱ Epoch Time: 136.16s\n",
      "📉 Train Loss: 0.0051 | 🟢 Train Acc: 0.9993\n",
      "📉 Val Loss:   0.0345 | 🔵 Val Acc:   0.9912\n"
     ]
    },
    {
     "name": "stderr",
     "output_type": "stream",
     "text": [
      "Epoch 20/30: 100%|█████████████████████████████████████████████████████████████████████| 43/43 [02:06<00:00,  2.94s/it]\n"
     ]
    },
    {
     "name": "stdout",
     "output_type": "stream",
     "text": [
      "\n",
      "⏱ Epoch Time: 136.60s\n",
      "📉 Train Loss: 0.0039 | 🟢 Train Acc: 0.9993\n",
      "📉 Val Loss:   0.0302 | 🔵 Val Acc:   0.9912\n"
     ]
    },
    {
     "name": "stderr",
     "output_type": "stream",
     "text": [
      "Epoch 21/30: 100%|█████████████████████████████████████████████████████████████████████| 43/43 [02:05<00:00,  2.93s/it]\n"
     ]
    },
    {
     "name": "stdout",
     "output_type": "stream",
     "text": [
      "\n",
      "⏱ Epoch Time: 135.71s\n",
      "📉 Train Loss: 0.0020 | 🟢 Train Acc: 1.0000\n",
      "📉 Val Loss:   0.0227 | 🔵 Val Acc:   0.9912\n"
     ]
    },
    {
     "name": "stderr",
     "output_type": "stream",
     "text": [
      "Epoch 22/30: 100%|█████████████████████████████████████████████████████████████████████| 43/43 [02:05<00:00,  2.92s/it]\n"
     ]
    },
    {
     "name": "stdout",
     "output_type": "stream",
     "text": [
      "\n",
      "⏱ Epoch Time: 135.41s\n",
      "📉 Train Loss: 0.0023 | 🟢 Train Acc: 1.0000\n",
      "📉 Val Loss:   0.0359 | 🔵 Val Acc:   0.9912\n"
     ]
    },
    {
     "name": "stderr",
     "output_type": "stream",
     "text": [
      "Epoch 23/30: 100%|█████████████████████████████████████████████████████████████████████| 43/43 [02:05<00:00,  2.91s/it]\n"
     ]
    },
    {
     "name": "stdout",
     "output_type": "stream",
     "text": [
      "\n",
      "⏱ Epoch Time: 135.18s\n",
      "📉 Train Loss: 0.0031 | 🟢 Train Acc: 1.0000\n",
      "📉 Val Loss:   0.0405 | 🔵 Val Acc:   0.9912\n"
     ]
    },
    {
     "name": "stderr",
     "output_type": "stream",
     "text": [
      "Epoch 24/30: 100%|█████████████████████████████████████████████████████████████████████| 43/43 [02:05<00:00,  2.91s/it]\n"
     ]
    },
    {
     "name": "stdout",
     "output_type": "stream",
     "text": [
      "\n",
      "⏱ Epoch Time: 134.99s\n",
      "📉 Train Loss: 0.0021 | 🟢 Train Acc: 1.0000\n",
      "📉 Val Loss:   0.0446 | 🔵 Val Acc:   0.9912\n"
     ]
    },
    {
     "name": "stderr",
     "output_type": "stream",
     "text": [
      "Epoch 25/30: 100%|█████████████████████████████████████████████████████████████████████| 43/43 [02:05<00:00,  2.92s/it]\n"
     ]
    },
    {
     "name": "stdout",
     "output_type": "stream",
     "text": [
      "\n",
      "⏱ Epoch Time: 135.45s\n",
      "📉 Train Loss: 0.0034 | 🟢 Train Acc: 0.9993\n",
      "📉 Val Loss:   0.0521 | 🔵 Val Acc:   0.9912\n"
     ]
    },
    {
     "name": "stderr",
     "output_type": "stream",
     "text": [
      "Epoch 26/30: 100%|█████████████████████████████████████████████████████████████████████| 43/43 [02:04<00:00,  2.90s/it]\n"
     ]
    },
    {
     "name": "stdout",
     "output_type": "stream",
     "text": [
      "\n",
      "⏱ Epoch Time: 135.43s\n",
      "📉 Train Loss: 0.0015 | 🟢 Train Acc: 1.0000\n",
      "📉 Val Loss:   0.0583 | 🔵 Val Acc:   0.9912\n"
     ]
    },
    {
     "name": "stderr",
     "output_type": "stream",
     "text": [
      "Epoch 27/30: 100%|█████████████████████████████████████████████████████████████████████| 43/43 [02:25<00:00,  3.39s/it]\n"
     ]
    },
    {
     "name": "stdout",
     "output_type": "stream",
     "text": [
      "\n",
      "⏱ Epoch Time: 156.92s\n",
      "📉 Train Loss: 0.0017 | 🟢 Train Acc: 1.0000\n",
      "📉 Val Loss:   0.0507 | 🔵 Val Acc:   0.9912\n"
     ]
    },
    {
     "name": "stderr",
     "output_type": "stream",
     "text": [
      "Epoch 28/30: 100%|█████████████████████████████████████████████████████████████████████| 43/43 [02:25<00:00,  3.39s/it]\n"
     ]
    },
    {
     "name": "stdout",
     "output_type": "stream",
     "text": [
      "\n",
      "⏱ Epoch Time: 157.06s\n",
      "📉 Train Loss: 0.0015 | 🟢 Train Acc: 1.0000\n",
      "📉 Val Loss:   0.0508 | 🔵 Val Acc:   0.9912\n"
     ]
    },
    {
     "name": "stderr",
     "output_type": "stream",
     "text": [
      "Epoch 29/30: 100%|█████████████████████████████████████████████████████████████████████| 43/43 [02:13<00:00,  3.11s/it]\n"
     ]
    },
    {
     "name": "stdout",
     "output_type": "stream",
     "text": [
      "\n",
      "⏱ Epoch Time: 143.55s\n",
      "📉 Train Loss: 0.0016 | 🟢 Train Acc: 1.0000\n",
      "📉 Val Loss:   0.0543 | 🔵 Val Acc:   0.9912\n"
     ]
    },
    {
     "name": "stderr",
     "output_type": "stream",
     "text": [
      "Epoch 30/30: 100%|█████████████████████████████████████████████████████████████████████| 43/43 [02:05<00:00,  2.91s/it]\n"
     ]
    },
    {
     "name": "stdout",
     "output_type": "stream",
     "text": [
      "\n",
      "⏱ Epoch Time: 137.08s\n",
      "📉 Train Loss: 0.0019 | 🟢 Train Acc: 1.0000\n",
      "📉 Val Loss:   0.0375 | 🔵 Val Acc:   0.9912\n",
      "✅ Training complete!\n"
     ]
    }
   ],
   "source": [
    "import torch\n",
    "import torch.nn as nn\n",
    "import torch.optim as optim\n",
    "from torch.utils.data import DataLoader, random_split\n",
    "from torchvision import models\n",
    "from sklearn.metrics import accuracy_score\n",
    "from tqdm import tqdm\n",
    "import time\n",
    "\n",
    "# === Load Dataset ===\n",
    "dataset = CTSliceDataset(r\"F:\\INT500\\CLAUDE\\processed_data\\metadata.csv\", augment=True)\n",
    "val_split = 0.2\n",
    "val_size = int(len(dataset) * val_split)\n",
    "train_size = len(dataset) - val_size\n",
    "train_set, val_set = random_split(dataset, [train_size, val_size])\n",
    "\n",
    "train_loader = DataLoader(train_set, batch_size=32, shuffle=True)\n",
    "val_loader = DataLoader(val_set, batch_size=32, shuffle=False)\n",
    "\n",
    "# === Load ResNet18 (2D) ===\n",
    "device = torch.device(\"cuda\" if torch.cuda.is_available() else \"cpu\")\n",
    "model = models.resnet18(pretrained=True)\n",
    "\n",
    "# Modify input & output layers\n",
    "model.conv1 = nn.Conv2d(1, 64, kernel_size=7, stride=2, padding=3, bias=False)  # 1 channel\n",
    "model.fc = nn.Linear(model.fc.in_features, 3)  # 3 classes\n",
    "\n",
    "model = model.to(device)\n",
    "\n",
    "# === Loss & Optimizer ===\n",
    "criterion = nn.CrossEntropyLoss()\n",
    "optimizer = optim.Adam(model.parameters(), lr=1e-4)\n",
    "scheduler = optim.lr_scheduler.StepLR(optimizer, step_size=5, gamma=0.5)\n",
    "\n",
    "# === Training Loop ===\n",
    "EPOCHS = 30\n",
    "for epoch in range(EPOCHS):\n",
    "    start_time = time.time()\n",
    "    model.train()\n",
    "    train_loss, train_preds, train_labels = [], [], []\n",
    "\n",
    "    for images, labels in tqdm(train_loader, desc=f\"Epoch {epoch+1}/{EPOCHS}\"):\n",
    "        images, labels = images.to(device), labels.to(device)\n",
    "        optimizer.zero_grad()\n",
    "        outputs = model(images)\n",
    "        loss = criterion(outputs, labels)\n",
    "        loss.backward()\n",
    "        optimizer.step()\n",
    "\n",
    "        train_loss.append(loss.item())\n",
    "        train_preds.extend(outputs.argmax(dim=1).cpu().numpy())\n",
    "        train_labels.extend(labels.cpu().numpy())\n",
    "\n",
    "    train_acc = accuracy_score(train_labels, train_preds)\n",
    "\n",
    "    # === Validation ===\n",
    "    model.eval()\n",
    "    val_loss, val_preds, val_labels = [], [], []\n",
    "\n",
    "    with torch.no_grad():\n",
    "        for images, labels in val_loader:\n",
    "            images, labels = images.to(device), labels.to(device)\n",
    "            outputs = model(images)\n",
    "            loss = criterion(outputs, labels)\n",
    "\n",
    "            val_loss.append(loss.item())\n",
    "            val_preds.extend(outputs.argmax(dim=1).cpu().numpy())\n",
    "            val_labels.extend(labels.cpu().numpy())\n",
    "\n",
    "    val_acc = accuracy_score(val_labels, val_preds)\n",
    "    scheduler.step()\n",
    "\n",
    "    print(f\"\\n⏱ Epoch Time: {time.time() - start_time:.2f}s\")\n",
    "    print(f\"📉 Train Loss: {sum(train_loss)/len(train_loss):.4f} | 🟢 Train Acc: {train_acc:.4f}\")\n",
    "    print(f\"📉 Val Loss:   {sum(val_loss)/len(val_loss):.4f} | 🔵 Val Acc:   {val_acc:.4f}\")\n",
    "\n",
    "print(\"✅ Training complete!\")"
   ]
  },
  {
   "cell_type": "code",
   "execution_count": null,
   "id": "fe22c7b7-026c-4795-93f0-1057a8bb7213",
   "metadata": {},
   "outputs": [],
   "source": [
    "import matplotlib.pyplot as plt\n",
    "import cv2\n",
    "import numpy as np\n",
    "import torch\n",
    "from torchvision import models\n",
    "from torchvision.transforms import Normalize\n",
    "import torch.nn.functional as F\n",
    "\n",
    "def show_gradcam(model, image_tensor, label, device, class_names=[\"Stage II\", \"Stage III\", \"Stage IV\"]):\n",
    "    model.eval()\n",
    "    image_tensor = image_tensor.to(device).unsqueeze(0)  # [1, 1, 224, 224]\n",
    "\n",
    "    # === Hook last conv layer ===\n",
    "    activations = []\n",
    "    gradients = []\n",
    "\n",
    "    def forward_hook(module, input, output):\n",
    "        activations.append(output)\n",
    "\n",
    "    def backward_hook(module, grad_in, grad_out):\n",
    "        gradients.append(grad_out[0])\n",
    "\n",
    "    hook = model.layer4.register_forward_hook(forward_hook)\n",
    "    model.layer4.register_backward_hook(backward_hook)\n",
    "\n",
    "    # === Forward & Backward ===\n",
    "    output = model(image_tensor)\n",
    "    pred_class = output.argmax(dim=1).item()\n",
    "    one_hot = torch.zeros_like(output)\n",
    "    one_hot[0, pred_class] = 1\n",
    "    output.backward(gradient=one_hot)\n",
    "\n",
    "    # === Compute Grad-CAM ===\n",
    "    grad = gradients[0].squeeze(0)      # [C, H, W]\n",
    "    act = activations[0].squeeze(0)     # [C, H, W]\n",
    "\n",
    "    weights = grad.mean(dim=[1, 2])     # [C]\n",
    "    cam = torch.zeros(act.shape[1:], dtype=torch.float32).to(device)\n",
    "\n",
    "    for i, w in enumerate(weights):\n",
    "        cam += w * act[i]\n",
    "\n",
    "    cam = cam.cpu().detach().numpy()\n",
    "    cam = np.maximum(cam, 0)  # ReLU\n",
    "    cam = cam / cam.max() if cam.max() != 0 else cam\n",
    "    cam = cv2.resize(cam, (224, 224))\n",
    "\n",
    "    # === Original image ===\n",
    "    img = image_tensor.squeeze().cpu().numpy()  # [224, 224]\n",
    "\n",
    "    # === Overlay ===\n",
    "    heatmap = cv2.applyColorMap(np.uint8(255 * cam), cv2.COLORMAP_JET)\n",
    "    heatmap = heatmap[..., ::-1]  # BGR to RGB\n",
    "    overlay = 0.4 * heatmap + 0.6 * np.stack([img*255]*3, axis=2)\n",
    "\n",
    "    # === Plot ===\n",
    "    plt.figure(figsize=(12, 4))\n",
    "    plt.subplot(1, 3, 1)\n",
    "    plt.imshow(img, cmap='gray')\n",
    "    plt.title(\"Original Slice\")\n",
    "    plt.axis('off')\n",
    "\n",
    "    plt.subplot(1, 3, 2)\n",
    "    plt.imshow(cam, cmap='jet')\n",
    "    plt.title(\"Grad-CAM Heatmap\")\n",
    "    plt.axis('off')\n",
    "\n",
    "    plt.subplot(1, 3, 3)\n",
    "    plt.imshow(overlay.astype(np.uint8))\n",
    "    plt.title(f\"Overlay: Pred = {class_names[pred_class]}\")\n",
    "    plt.axis('off')\n",
    "    plt.show()\n",
    "\n",
    "    hook.remove()"
   ]
  },
  {
   "cell_type": "code",
   "execution_count": 20,
   "id": "01bde4ad-c090-4e8f-b3d5-1c50f503f726",
   "metadata": {},
   "outputs": [],
   "source": [
    "from tqdm import tqdm\n",
    "import matplotlib.pyplot as plt\n",
    "import cv2\n",
    "\n",
    "def run_gradcam_on_validation(val_loader, model, device, output_dir=\"gradcam_outputs\", class_names=[\"Stage I\", \"Stage II\", \"Stage III\"]):\n",
    "    model.eval()\n",
    "    for i, (images, labels) in enumerate(tqdm(val_loader, desc=\"Generating Grad-CAMs\")):\n",
    "        for j in range(images.size(0)):\n",
    "            image = images[j].unsqueeze(0).to(device)\n",
    "            label = labels[j].item()\n",
    "\n",
    "            # === Hook setup ===\n",
    "            activations, gradients = [], []\n",
    "\n",
    "            def forward_hook(module, input, output):\n",
    "                activations.append(output)\n",
    "\n",
    "            def backward_hook(module, grad_in, grad_out):\n",
    "                gradients.append(grad_out[0])\n",
    "\n",
    "            h1 = model.layer4.register_forward_hook(forward_hook)\n",
    "            h2 = model.layer4.register_backward_hook(backward_hook)\n",
    "\n",
    "            output = model(image)\n",
    "            pred_class = output.argmax(dim=1).item()\n",
    "\n",
    "            one_hot = torch.zeros_like(output)\n",
    "            one_hot[0, pred_class] = 1\n",
    "            output.backward(gradient=one_hot)\n",
    "\n",
    "            grad = gradients[0].squeeze(0)\n",
    "            act = activations[0].squeeze(0)\n",
    "\n",
    "            weights = grad.mean(dim=[1, 2])\n",
    "            cam = torch.zeros(act.shape[1:], dtype=torch.float32).to(device)\n",
    "            for k, w in enumerate(weights):\n",
    "                cam += w * act[k]\n",
    "\n",
    "            cam = cam.cpu().detach().numpy()\n",
    "            cam = np.maximum(cam, 0)\n",
    "            cam = cam / cam.max() if cam.max() != 0 else cam\n",
    "            cam = cv2.resize(cam, (224, 224))\n",
    "\n",
    "            # Image prep\n",
    "            original = images[j].squeeze().cpu().numpy()\n",
    "            heatmap = cv2.applyColorMap(np.uint8(255 * cam), cv2.COLORMAP_JET)\n",
    "            heatmap = heatmap[..., ::-1]\n",
    "            overlay = 0.4 * heatmap + 0.6 * np.stack([original * 255] * 3, axis=2)\n",
    "\n",
    "            filename = f\"sample_{i}_{j}_pred_{class_names[pred_class]}.png\"\n",
    "            filepath = os.path.join(output_dir, filename)\n",
    "            cv2.imwrite(filepath, overlay.astype(np.uint8))\n",
    "\n",
    "            # Cleanup\n",
    "            h1.remove()\n",
    "            h2.remove()\n",
    "\n",
    "    print(f\"✅ All Grad-CAM overlays saved to: {output_dir}\")"
   ]
  },
  {
   "cell_type": "code",
   "execution_count": 18,
   "id": "92abe563-94a1-4156-b72c-866fe4d8d193",
   "metadata": {
    "scrolled": true
   },
   "outputs": [
    {
     "name": "stderr",
     "output_type": "stream",
     "text": [
      "D:\\Python\\Lib\\site-packages\\torch\\nn\\modules\\module.py:1830: FutureWarning: Using a non-full backward hook when the forward contains multiple autograd Nodes is deprecated and will be removed in future versions. This hook will be missing some grad_input. Please use register_full_backward_hook to get the documented behavior.\n",
      "  self._maybe_warn_non_full_backward_hook(args, result, grad_fn)\n"
     ]
    },
    {
     "data": {
      "image/png": "[encoded data removed]",
      "text/plain": [
       "<Figure size 1200x400 with 3 Axes>"
      ]
     },
     "metadata": {},
     "output_type": "display_data"
    }
   ],
   "source": [
    "# Pick a test image\n",
    "image, label = dataset[0]  # or any index\n",
    "show_gradcam(model, image, label, device)"
   ]
  },
  {
   "cell_type": "code",
   "execution_count": null,
   "id": "f7b33c61-48e8-43ce-9336-23e18c385f4a",
   "metadata": {},
   "outputs": [],
   "source": []
  },
  {
   "cell_type": "code",
   "execution_count": 21,
   "id": "edcf7b6b-0d1b-44f4-a5c8-df6cc377e619",
   "metadata": {},
   "outputs": [
    {
     "name": "stderr",
     "output_type": "stream",
     "text": [
      "Generating Grad-CAMs: 100%|████████████████████████████████████████████████████████████| 11/11 [01:10<00:00,  6.38s/it]"
     ]
    },
    {
     "name": "stdout",
     "output_type": "stream",
     "text": [
      "✅ All Grad-CAM overlays saved to: gradcam_outputs\n"
     ]
    },
    {
     "name": "stderr",
     "output_type": "stream",
     "text": [
      "\n"
     ]
    }
   ],
   "source": [
    "run_gradcam_on_validation(val_loader, model, device)"
   ]
  },
  {
   "cell_type": "code",
   "execution_count": 23,
   "id": "d71e6dc0-1220-4d9c-91ac-0170a3983bef",
   "metadata": {},
   "outputs": [],
   "source": [
    "from sklearn.metrics import classification_report, confusion_matrix\n",
    "import matplotlib.pyplot as plt\n",
    "import seaborn as sns\n",
    "\n",
    "def evaluate_model(model, val_loader, device, class_names=[\"Stage II\", \"Stage III\", \"Stage IV\"], fold=0):\n",
    "    model.eval()\n",
    "    all_preds = []\n",
    "    all_labels = []\n",
    "\n",
    "    with torch.no_grad():\n",
    "        for images, labels in val_loader:\n",
    "            images, labels = images.to(device), labels.to(device)\n",
    "            outputs = model(images)\n",
    "            preds = outputs.argmax(dim=1)\n",
    "            all_preds.extend(preds.cpu().numpy())\n",
    "            all_labels.extend(labels.cpu().numpy())\n",
    "\n",
    "    # === Print metrics\n",
    "    print(f\"\\n📊 Fold {fold} Classification Report:\\n\")\n",
    "    print(classification_report(all_labels, all_preds, target_names=class_names, digits=4))\n",
    "\n",
    "    # === Confusion Matrix\n",
    "    cm = confusion_matrix(all_labels, all_preds)\n",
    "    plt.figure(figsize=(6, 4))\n",
    "    sns.heatmap(cm, annot=True, fmt='d', cmap='Blues',\n",
    "                xticklabels=class_names, yticklabels=class_names)\n",
    "    plt.title(f\"Fold {fold} Confusion Matrix\")\n",
    "    plt.xlabel(\"Predicted\")\n",
    "    plt.ylabel(\"Actual\")\n",
    "    plt.show()\n"
   ]
  },
  {
   "cell_type": "code",
   "execution_count": 24,
   "id": "db4e7b6e-dbe0-4b5f-9d36-f53503510f86",
   "metadata": {},
   "outputs": [
    {
     "name": "stdout",
     "output_type": "stream",
     "text": [
      "\n",
      "📊 Fold 4 Classification Report:\n",
      "\n",
      "              precision    recall  f1-score   support\n",
      "\n",
      "    Stage II     1.0000    0.9845    0.9922       129\n",
      "   Stage III     0.9911    0.9911    0.9911       112\n",
      "    Stage IV     0.9806    1.0000    0.9902       101\n",
      "\n",
      "    accuracy                         0.9912       342\n",
      "   macro avg     0.9906    0.9919    0.9912       342\n",
      "weighted avg     0.9913    0.9912    0.9912       342\n",
      "\n"
     ]
    },
    {
     "data": {
      "image/png": "[encoded data removed]",
      "text/plain": [
       "<Figure size 600x400 with 2 Axes>"
      ]
     },
     "metadata": {},
     "output_type": "display_data"
    }
   ],
   "source": [
    "evaluate_model(model, val_loader, device, fold=fold)"
   ]
  },
  {
   "cell_type": "code",
   "execution_count": null,
   "id": "f510d48d-9c3d-465a-9627-22c892d102e4",
   "metadata": {},
   "outputs": [],
   "source": []
  },
  {
   "cell_type": "code",
   "execution_count": 52,
   "id": "0bb72d38-c50d-4870-9335-94919154a643",
   "metadata": {},
   "outputs": [
    {
     "name": "stderr",
     "output_type": "stream",
     "text": [
      "Epoch 1/30: 100%|██████████████████████████████████████████████████████████████████████| 43/43 [02:49<00:00,  3.95s/it]\n"
     ]
    },
    {
     "name": "stdout",
     "output_type": "stream",
     "text": [
      "\n",
      "⏱ Epoch Time: 177.70s\n",
      "📉 Train Loss: 0.9514 | 🟢 Train Acc: 0.5650\n",
      "📉 Val Loss:   1.1080 | 🔵 Val Acc:   0.3333\n"
     ]
    },
    {
     "name": "stderr",
     "output_type": "stream",
     "text": [
      "Epoch 2/30: 100%|██████████████████████████████████████████████████████████████████████| 43/43 [02:47<00:00,  3.89s/it]\n"
     ]
    },
    {
     "name": "stdout",
     "output_type": "stream",
     "text": [
      "\n",
      "⏱ Epoch Time: 175.22s\n",
      "📉 Train Loss: 0.6651 | 🟢 Train Acc: 0.7555\n",
      "📉 Val Loss:   0.8922 | 🔵 Val Acc:   0.5760\n"
     ]
    },
    {
     "name": "stderr",
     "output_type": "stream",
     "text": [
      "Epoch 3/30: 100%|██████████████████████████████████████████████████████████████████████| 43/43 [02:47<00:00,  3.90s/it]\n"
     ]
    },
    {
     "name": "stdout",
     "output_type": "stream",
     "text": [
      "\n",
      "⏱ Epoch Time: 175.86s\n",
      "📉 Train Loss: 0.4238 | 🟢 Train Acc: 0.8723\n",
      "📉 Val Loss:   0.2931 | 🔵 Val Acc:   0.9152\n"
     ]
    },
    {
     "name": "stderr",
     "output_type": "stream",
     "text": [
      "Epoch 4/30: 100%|██████████████████████████████████████████████████████████████████████| 43/43 [02:46<00:00,  3.87s/it]\n"
     ]
    },
    {
     "name": "stdout",
     "output_type": "stream",
     "text": [
      "\n",
      "⏱ Epoch Time: 174.43s\n",
      "📉 Train Loss: 0.2585 | 🟢 Train Acc: 0.9270\n",
      "📉 Val Loss:   0.1664 | 🔵 Val Acc:   0.9561\n"
     ]
    },
    {
     "name": "stderr",
     "output_type": "stream",
     "text": [
      "Epoch 5/30: 100%|██████████████████████████████████████████████████████████████████████| 43/43 [02:45<00:00,  3.86s/it]\n"
     ]
    },
    {
     "name": "stdout",
     "output_type": "stream",
     "text": [
      "\n",
      "⏱ Epoch Time: 173.95s\n",
      "📉 Train Loss: 0.1739 | 🟢 Train Acc: 0.9496\n",
      "📉 Val Loss:   0.1033 | 🔵 Val Acc:   0.9795\n"
     ]
    },
    {
     "name": "stderr",
     "output_type": "stream",
     "text": [
      "Epoch 6/30: 100%|██████████████████████████████████████████████████████████████████████| 43/43 [02:47<00:00,  3.89s/it]\n"
     ]
    },
    {
     "name": "stdout",
     "output_type": "stream",
     "text": [
      "\n",
      "⏱ Epoch Time: 175.26s\n",
      "📉 Train Loss: 0.1370 | 🟢 Train Acc: 0.9613\n",
      "📉 Val Loss:   0.0992 | 🔵 Val Acc:   0.9854\n"
     ]
    },
    {
     "name": "stderr",
     "output_type": "stream",
     "text": [
      "Epoch 7/30: 100%|██████████████████████████████████████████████████████████████████████| 43/43 [02:47<00:00,  3.89s/it]\n"
     ]
    },
    {
     "name": "stdout",
     "output_type": "stream",
     "text": [
      "\n",
      "⏱ Epoch Time: 175.32s\n",
      "📉 Train Loss: 0.1308 | 🟢 Train Acc: 0.9606\n",
      "📉 Val Loss:   0.0820 | 🔵 Val Acc:   0.9795\n"
     ]
    },
    {
     "name": "stderr",
     "output_type": "stream",
     "text": [
      "Epoch 8/30: 100%|██████████████████████████████████████████████████████████████████████| 43/43 [02:43<00:00,  3.79s/it]\n"
     ]
    },
    {
     "name": "stdout",
     "output_type": "stream",
     "text": [
      "\n",
      "⏱ Epoch Time: 170.64s\n",
      "📉 Train Loss: 0.1071 | 🟢 Train Acc: 0.9693\n",
      "📉 Val Loss:   0.0766 | 🔵 Val Acc:   0.9766\n"
     ]
    },
    {
     "name": "stderr",
     "output_type": "stream",
     "text": [
      "Epoch 9/30: 100%|██████████████████████████████████████████████████████████████████████| 43/43 [02:40<00:00,  3.73s/it]\n"
     ]
    },
    {
     "name": "stdout",
     "output_type": "stream",
     "text": [
      "\n",
      "⏱ Epoch Time: 168.38s\n",
      "📉 Train Loss: 0.0999 | 🟢 Train Acc: 0.9708\n",
      "📉 Val Loss:   0.0706 | 🔵 Val Acc:   0.9825\n"
     ]
    },
    {
     "name": "stderr",
     "output_type": "stream",
     "text": [
      "Epoch 10/30: 100%|█████████████████████████████████████████████████████████████████████| 43/43 [02:50<00:00,  3.96s/it]\n"
     ]
    },
    {
     "name": "stdout",
     "output_type": "stream",
     "text": [
      "\n",
      "⏱ Epoch Time: 178.66s\n",
      "📉 Train Loss: 0.0820 | 🟢 Train Acc: 0.9803\n",
      "📉 Val Loss:   0.0706 | 🔵 Val Acc:   0.9766\n"
     ]
    },
    {
     "name": "stderr",
     "output_type": "stream",
     "text": [
      "Epoch 11/30: 100%|█████████████████████████████████████████████████████████████████████| 43/43 [02:49<00:00,  3.93s/it]\n"
     ]
    },
    {
     "name": "stdout",
     "output_type": "stream",
     "text": [
      "\n",
      "⏱ Epoch Time: 177.11s\n",
      "📉 Train Loss: 0.0681 | 🟢 Train Acc: 0.9832\n",
      "📉 Val Loss:   0.0821 | 🔵 Val Acc:   0.9766\n"
     ]
    },
    {
     "name": "stderr",
     "output_type": "stream",
     "text": [
      "Epoch 12/30: 100%|█████████████████████████████████████████████████████████████████████| 43/43 [02:49<00:00,  3.94s/it]\n"
     ]
    },
    {
     "name": "stdout",
     "output_type": "stream",
     "text": [
      "\n",
      "⏱ Epoch Time: 179.41s\n",
      "📉 Train Loss: 0.0537 | 🟢 Train Acc: 0.9898\n",
      "📉 Val Loss:   0.0879 | 🔵 Val Acc:   0.9620\n"
     ]
    },
    {
     "name": "stderr",
     "output_type": "stream",
     "text": [
      "Epoch 13/30: 100%|█████████████████████████████████████████████████████████████████████| 43/43 [03:11<00:00,  4.46s/it]\n"
     ]
    },
    {
     "name": "stdout",
     "output_type": "stream",
     "text": [
      "\n",
      "⏱ Epoch Time: 201.20s\n",
      "📉 Train Loss: 0.0575 | 🟢 Train Acc: 0.9876\n",
      "📉 Val Loss:   0.0816 | 🔵 Val Acc:   0.9766\n"
     ]
    },
    {
     "name": "stderr",
     "output_type": "stream",
     "text": [
      "Epoch 14/30: 100%|█████████████████████████████████████████████████████████████████████| 43/43 [03:11<00:00,  4.44s/it]\n"
     ]
    },
    {
     "name": "stdout",
     "output_type": "stream",
     "text": [
      "\n",
      "⏱ Epoch Time: 199.97s\n",
      "📉 Train Loss: 0.0664 | 🟢 Train Acc: 0.9766\n",
      "📉 Val Loss:   0.0836 | 🔵 Val Acc:   0.9766\n"
     ]
    },
    {
     "name": "stderr",
     "output_type": "stream",
     "text": [
      "Epoch 15/30: 100%|█████████████████████████████████████████████████████████████████████| 43/43 [03:11<00:00,  4.46s/it]\n"
     ]
    },
    {
     "name": "stdout",
     "output_type": "stream",
     "text": [
      "\n",
      "⏱ Epoch Time: 201.26s\n",
      "📉 Train Loss: 0.0456 | 🟢 Train Acc: 0.9920\n",
      "📉 Val Loss:   0.0582 | 🔵 Val Acc:   0.9795\n"
     ]
    },
    {
     "name": "stderr",
     "output_type": "stream",
     "text": [
      "Epoch 16/30: 100%|█████████████████████████████████████████████████████████████████████| 43/43 [02:54<00:00,  4.07s/it]\n"
     ]
    },
    {
     "name": "stdout",
     "output_type": "stream",
     "text": [
      "\n",
      "⏱ Epoch Time: 183.06s\n",
      "📉 Train Loss: 0.0446 | 🟢 Train Acc: 0.9891\n",
      "📉 Val Loss:   0.0667 | 🔵 Val Acc:   0.9766\n"
     ]
    },
    {
     "name": "stderr",
     "output_type": "stream",
     "text": [
      "Epoch 17/30: 100%|█████████████████████████████████████████████████████████████████████| 43/43 [02:46<00:00,  3.88s/it]\n"
     ]
    },
    {
     "name": "stdout",
     "output_type": "stream",
     "text": [
      "\n",
      "⏱ Epoch Time: 174.91s\n",
      "📉 Train Loss: 0.0399 | 🟢 Train Acc: 0.9927\n",
      "📉 Val Loss:   0.0583 | 🔵 Val Acc:   0.9825\n"
     ]
    },
    {
     "name": "stderr",
     "output_type": "stream",
     "text": [
      "Epoch 18/30: 100%|█████████████████████████████████████████████████████████████████████| 43/43 [02:48<00:00,  3.92s/it]\n"
     ]
    },
    {
     "name": "stdout",
     "output_type": "stream",
     "text": [
      "\n",
      "⏱ Epoch Time: 176.74s\n",
      "📉 Train Loss: 0.0460 | 🟢 Train Acc: 0.9861\n",
      "📉 Val Loss:   0.0836 | 🔵 Val Acc:   0.9825\n"
     ]
    },
    {
     "name": "stderr",
     "output_type": "stream",
     "text": [
      "Epoch 19/30: 100%|█████████████████████████████████████████████████████████████████████| 43/43 [02:40<00:00,  3.74s/it]\n"
     ]
    },
    {
     "name": "stdout",
     "output_type": "stream",
     "text": [
      "\n",
      "⏱ Epoch Time: 168.36s\n",
      "📉 Train Loss: 0.0482 | 🟢 Train Acc: 0.9883\n",
      "📉 Val Loss:   0.0931 | 🔵 Val Acc:   0.9737\n"
     ]
    },
    {
     "name": "stderr",
     "output_type": "stream",
     "text": [
      "Epoch 20/30: 100%|█████████████████████████████████████████████████████████████████████| 43/43 [02:43<00:00,  3.80s/it]\n"
     ]
    },
    {
     "name": "stdout",
     "output_type": "stream",
     "text": [
      "\n",
      "⏱ Epoch Time: 171.32s\n",
      "📉 Train Loss: 0.0342 | 🟢 Train Acc: 0.9912\n",
      "📉 Val Loss:   0.0973 | 🔵 Val Acc:   0.9766\n"
     ]
    },
    {
     "name": "stderr",
     "output_type": "stream",
     "text": [
      "Epoch 21/30: 100%|█████████████████████████████████████████████████████████████████████| 43/43 [02:43<00:00,  3.81s/it]\n"
     ]
    },
    {
     "name": "stdout",
     "output_type": "stream",
     "text": [
      "\n",
      "⏱ Epoch Time: 171.73s\n",
      "📉 Train Loss: 0.0377 | 🟢 Train Acc: 0.9912\n",
      "📉 Val Loss:   0.0838 | 🔵 Val Acc:   0.9825\n"
     ]
    },
    {
     "name": "stderr",
     "output_type": "stream",
     "text": [
      "Epoch 22/30: 100%|█████████████████████████████████████████████████████████████████████| 43/43 [02:49<00:00,  3.93s/it]\n"
     ]
    },
    {
     "name": "stdout",
     "output_type": "stream",
     "text": [
      "\n",
      "⏱ Epoch Time: 177.21s\n",
      "📉 Train Loss: 0.0296 | 🟢 Train Acc: 0.9942\n",
      "📉 Val Loss:   0.0652 | 🔵 Val Acc:   0.9737\n"
     ]
    },
    {
     "name": "stderr",
     "output_type": "stream",
     "text": [
      "Epoch 23/30: 100%|█████████████████████████████████████████████████████████████████████| 43/43 [02:49<00:00,  3.93s/it]\n"
     ]
    },
    {
     "name": "stdout",
     "output_type": "stream",
     "text": [
      "\n",
      "⏱ Epoch Time: 177.23s\n",
      "📉 Train Loss: 0.0363 | 🟢 Train Acc: 0.9920\n",
      "📉 Val Loss:   0.0595 | 🔵 Val Acc:   0.9883\n"
     ]
    },
    {
     "name": "stderr",
     "output_type": "stream",
     "text": [
      "Epoch 24/30: 100%|█████████████████████████████████████████████████████████████████████| 43/43 [02:50<00:00,  3.96s/it]\n"
     ]
    },
    {
     "name": "stdout",
     "output_type": "stream",
     "text": [
      "\n",
      "⏱ Epoch Time: 178.36s\n",
      "📉 Train Loss: 0.0328 | 🟢 Train Acc: 0.9927\n",
      "📉 Val Loss:   0.0916 | 🔵 Val Acc:   0.9591\n"
     ]
    },
    {
     "name": "stderr",
     "output_type": "stream",
     "text": [
      "Epoch 25/30: 100%|█████████████████████████████████████████████████████████████████████| 43/43 [02:48<00:00,  3.91s/it]\n"
     ]
    },
    {
     "name": "stdout",
     "output_type": "stream",
     "text": [
      "\n",
      "⏱ Epoch Time: 176.52s\n",
      "📉 Train Loss: 0.0408 | 🟢 Train Acc: 0.9898\n",
      "📉 Val Loss:   0.0652 | 🔵 Val Acc:   0.9795\n"
     ]
    },
    {
     "name": "stderr",
     "output_type": "stream",
     "text": [
      "Epoch 26/30: 100%|█████████████████████████████████████████████████████████████████████| 43/43 [02:46<00:00,  3.88s/it]\n"
     ]
    },
    {
     "name": "stdout",
     "output_type": "stream",
     "text": [
      "\n",
      "⏱ Epoch Time: 174.62s\n",
      "📉 Train Loss: 0.0290 | 🟢 Train Acc: 0.9942\n",
      "📉 Val Loss:   0.0922 | 🔵 Val Acc:   0.9766\n"
     ]
    },
    {
     "name": "stderr",
     "output_type": "stream",
     "text": [
      "Epoch 27/30: 100%|█████████████████████████████████████████████████████████████████████| 43/43 [02:30<00:00,  3.50s/it]\n"
     ]
    },
    {
     "name": "stdout",
     "output_type": "stream",
     "text": [
      "\n",
      "⏱ Epoch Time: 157.98s\n",
      "📉 Train Loss: 0.0428 | 🟢 Train Acc: 0.9891\n",
      "📉 Val Loss:   0.0861 | 🔵 Val Acc:   0.9591\n"
     ]
    },
    {
     "name": "stderr",
     "output_type": "stream",
     "text": [
      "Epoch 28/30: 100%|█████████████████████████████████████████████████████████████████████| 43/43 [02:23<00:00,  3.34s/it]\n"
     ]
    },
    {
     "name": "stdout",
     "output_type": "stream",
     "text": [
      "\n",
      "⏱ Epoch Time: 151.10s\n",
      "📉 Train Loss: 0.0340 | 🟢 Train Acc: 0.9912\n",
      "📉 Val Loss:   0.0808 | 🔵 Val Acc:   0.9766\n"
     ]
    },
    {
     "name": "stderr",
     "output_type": "stream",
     "text": [
      "Epoch 29/30: 100%|█████████████████████████████████████████████████████████████████████| 43/43 [02:29<00:00,  3.48s/it]\n"
     ]
    },
    {
     "name": "stdout",
     "output_type": "stream",
     "text": [
      "\n",
      "⏱ Epoch Time: 157.59s\n",
      "📉 Train Loss: 0.0365 | 🟢 Train Acc: 0.9898\n",
      "📉 Val Loss:   0.0792 | 🔵 Val Acc:   0.9825\n"
     ]
    },
    {
     "name": "stderr",
     "output_type": "stream",
     "text": [
      "Epoch 30/30: 100%|█████████████████████████████████████████████████████████████████████| 43/43 [02:31<00:00,  3.53s/it]\n"
     ]
    },
    {
     "name": "stdout",
     "output_type": "stream",
     "text": [
      "\n",
      "⏱ Epoch Time: 159.41s\n",
      "📉 Train Loss: 0.0341 | 🟢 Train Acc: 0.9920\n",
      "📉 Val Loss:   0.0707 | 🔵 Val Acc:   0.9737\n",
      "✅ Training complete!\n"
     ]
    }
   ],
   "source": [
    "import torch\n",
    "import torch.nn as nn\n",
    "import torch.optim as optim\n",
    "from torch.utils.data import DataLoader, random_split\n",
    "from torchvision.models import efficientnet_b0\n",
    "from sklearn.metrics import accuracy_score\n",
    "from tqdm import tqdm\n",
    "import time\n",
    "\n",
    "# === Dataset ===\n",
    "dataset = CTSliceDataset(r\"F:\\INT500\\CLAUDE\\processed_data\\metadata.csv\", augment=True)\n",
    "val_split = 0.2\n",
    "val_size = int(len(dataset) * val_split)\n",
    "train_size = len(dataset) - val_size\n",
    "train_set, val_set = random_split(dataset, [train_size, val_size])\n",
    "\n",
    "train_loader = DataLoader(train_set, batch_size=32, shuffle=True)\n",
    "val_loader = DataLoader(val_set, batch_size=32, shuffle=False)\n",
    "\n",
    "# === Build EfficientNetB0 ===\n",
    "device = torch.device(\"cuda\" if torch.cuda.is_available() else \"cpu\")\n",
    "model = efficientnet_b0(weights=\"IMAGENET1K_V1\")\n",
    "model.features[0][0] = nn.Conv2d(1, 32, kernel_size=3, stride=2, padding=1, bias=False)\n",
    "model.classifier[1] = nn.Linear(model.classifier[1].in_features, 3)\n",
    "model = model.to(device)\n",
    "\n",
    "# === Loss & Optimizer ===\n",
    "criterion = nn.CrossEntropyLoss()\n",
    "optimizer = optim.Adam(model.parameters(), lr=1e-4)\n",
    "scheduler = optim.lr_scheduler.StepLR(optimizer, step_size=5, gamma=0.5)\n",
    "\n",
    "# === Training ===\n",
    "EPOCHS = 30\n",
    "for epoch in range(EPOCHS):\n",
    "    start_time = time.time()\n",
    "    model.train()\n",
    "    train_loss, train_preds, train_labels = [], [], []\n",
    "\n",
    "    for images, labels in tqdm(train_loader, desc=f\"Epoch {epoch+1}/{EPOCHS}\"):\n",
    "        images, labels = images.to(device), labels.to(device)\n",
    "        optimizer.zero_grad()\n",
    "        outputs = model(images)\n",
    "        loss = criterion(outputs, labels)\n",
    "        loss.backward()\n",
    "        optimizer.step()\n",
    "\n",
    "        train_loss.append(loss.item())\n",
    "        train_preds.extend(outputs.argmax(dim=1).cpu().numpy())\n",
    "        train_labels.extend(labels.cpu().numpy())\n",
    "\n",
    "    train_acc = accuracy_score(train_labels, train_preds)\n",
    "\n",
    "    # === Validation ===\n",
    "    model.eval()\n",
    "    val_loss, val_preds, val_labels = [], [], []\n",
    "\n",
    "    with torch.no_grad():\n",
    "        for images, labels in val_loader:\n",
    "            images, labels = images.to(device), labels.to(device)\n",
    "            outputs = model(images)\n",
    "            loss = criterion(outputs, labels)\n",
    "\n",
    "            val_loss.append(loss.item())\n",
    "            val_preds.extend(outputs.argmax(dim=1).cpu().numpy())\n",
    "            val_labels.extend(labels.cpu().numpy())\n",
    "\n",
    "    val_acc = accuracy_score(val_labels, val_preds)\n",
    "    scheduler.step()\n",
    "\n",
    "    print(f\"\\n⏱ Epoch Time: {time.time() - start_time:.2f}s\")\n",
    "    print(f\"📉 Train Loss: {sum(train_loss)/len(train_loss):.4f} | 🟢 Train Acc: {train_acc:.4f}\")\n",
    "    print(f\"📉 Val Loss:   {sum(val_loss)/len(val_loss):.4f} | 🔵 Val Acc:   {val_acc:.4f}\")\n",
    "\n",
    "print(\"✅ Training complete!\")\n"
   ]
  },
  {
   "cell_type": "code",
   "execution_count": null,
   "id": "c36a4bed-7fc2-4182-8144-c58a61f0a2eb",
   "metadata": {},
   "outputs": [],
   "source": []
  },
  {
   "cell_type": "code",
   "execution_count": 53,
   "id": "200337a6-2a9e-479a-8553-73e4e254fbbc",
   "metadata": {},
   "outputs": [
    {
     "name": "stderr",
     "output_type": "stream",
     "text": [
      "Downloading: \"https://download.pytorch.org/models/convnext_tiny-983f1562.pth\" to C:\\Users\\krish/.cache\\torch\\hub\\checkpoints\\convnext_tiny-983f1562.pth\n",
      "100%|████████████████████████████████████████████████████████████████████████████████| 109M/109M [02:27<00:00, 777kB/s]\n",
      "Epoch 1/30: 100%|██████████████████████████████████████████████████████████████████████| 43/43 [06:48<00:00,  9.51s/it]\n"
     ]
    },
    {
     "name": "stdout",
     "output_type": "stream",
     "text": [
      "\n",
      "⏱ Epoch Time: 437.93s\n",
      "📉 Train Loss: 1.0450 | 🟢 Train Acc: 0.4584\n",
      "📉 Val Loss:   0.9848 | 🔵 Val Acc:   0.5468\n"
     ]
    },
    {
     "name": "stderr",
     "output_type": "stream",
     "text": [
      "Epoch 2/30: 100%|██████████████████████████████████████████████████████████████████████| 43/43 [06:57<00:00,  9.70s/it]\n"
     ]
    },
    {
     "name": "stdout",
     "output_type": "stream",
     "text": [
      "\n",
      "⏱ Epoch Time: 448.48s\n",
      "📉 Train Loss: 0.8841 | 🟢 Train Acc: 0.5891\n",
      "📉 Val Loss:   0.7264 | 🔵 Val Acc:   0.6813\n"
     ]
    },
    {
     "name": "stderr",
     "output_type": "stream",
     "text": [
      "Epoch 3/30: 100%|██████████████████████████████████████████████████████████████████████| 43/43 [07:08<00:00,  9.97s/it]\n"
     ]
    },
    {
     "name": "stdout",
     "output_type": "stream",
     "text": [
      "\n",
      "⏱ Epoch Time: 459.59s\n",
      "📉 Train Loss: 0.6952 | 🟢 Train Acc: 0.7066\n",
      "📉 Val Loss:   0.5726 | 🔵 Val Acc:   0.7485\n"
     ]
    },
    {
     "name": "stderr",
     "output_type": "stream",
     "text": [
      "Epoch 4/30: 100%|██████████████████████████████████████████████████████████████████████| 43/43 [07:07<00:00,  9.94s/it]\n"
     ]
    },
    {
     "name": "stdout",
     "output_type": "stream",
     "text": [
      "\n",
      "⏱ Epoch Time: 458.88s\n",
      "📉 Train Loss: 0.5629 | 🟢 Train Acc: 0.7693\n",
      "📉 Val Loss:   0.4498 | 🔵 Val Acc:   0.7982\n"
     ]
    },
    {
     "name": "stderr",
     "output_type": "stream",
     "text": [
      "Epoch 5/30: 100%|██████████████████████████████████████████████████████████████████████| 43/43 [07:04<00:00,  9.87s/it]\n"
     ]
    },
    {
     "name": "stdout",
     "output_type": "stream",
     "text": [
      "\n",
      "⏱ Epoch Time: 455.39s\n",
      "📉 Train Loss: 0.4369 | 🟢 Train Acc: 0.8161\n",
      "📉 Val Loss:   0.3071 | 🔵 Val Acc:   0.8655\n"
     ]
    },
    {
     "name": "stderr",
     "output_type": "stream",
     "text": [
      "Epoch 6/30: 100%|██████████████████████████████████████████████████████████████████████| 43/43 [07:01<00:00,  9.79s/it]\n"
     ]
    },
    {
     "name": "stdout",
     "output_type": "stream",
     "text": [
      "\n",
      "⏱ Epoch Time: 452.30s\n",
      "📉 Train Loss: 0.2939 | 🟢 Train Acc: 0.8832\n",
      "📉 Val Loss:   0.2046 | 🔵 Val Acc:   0.9123\n"
     ]
    },
    {
     "name": "stderr",
     "output_type": "stream",
     "text": [
      "Epoch 7/30: 100%|██████████████████████████████████████████████████████████████████████| 43/43 [06:57<00:00,  9.72s/it]\n"
     ]
    },
    {
     "name": "stdout",
     "output_type": "stream",
     "text": [
      "\n",
      "⏱ Epoch Time: 448.74s\n",
      "📉 Train Loss: 0.1845 | 🟢 Train Acc: 0.9343\n",
      "📉 Val Loss:   0.1264 | 🔵 Val Acc:   0.9561\n"
     ]
    },
    {
     "name": "stderr",
     "output_type": "stream",
     "text": [
      "Epoch 8/30: 100%|██████████████████████████████████████████████████████████████████████| 43/43 [08:18<00:00, 11.58s/it]\n"
     ]
    },
    {
     "name": "stdout",
     "output_type": "stream",
     "text": [
      "\n",
      "⏱ Epoch Time: 529.59s\n",
      "📉 Train Loss: 0.1360 | 🟢 Train Acc: 0.9540\n",
      "📉 Val Loss:   0.0807 | 🔵 Val Acc:   0.9825\n"
     ]
    },
    {
     "name": "stderr",
     "output_type": "stream",
     "text": [
      "Epoch 9/30: 100%|██████████████████████████████████████████████████████████████████████| 43/43 [14:04<00:00, 19.64s/it]\n"
     ]
    },
    {
     "name": "stdout",
     "output_type": "stream",
     "text": [
      "\n",
      "⏱ Epoch Time: 885.80s\n",
      "📉 Train Loss: 0.0894 | 🟢 Train Acc: 0.9723\n",
      "📉 Val Loss:   0.0541 | 🔵 Val Acc:   0.9854\n"
     ]
    },
    {
     "name": "stderr",
     "output_type": "stream",
     "text": [
      "Epoch 10/30: 100%|█████████████████████████████████████████████████████████████████████| 43/43 [09:59<00:00, 13.94s/it]\n"
     ]
    },
    {
     "name": "stdout",
     "output_type": "stream",
     "text": [
      "\n",
      "⏱ Epoch Time: 640.35s\n",
      "📉 Train Loss: 0.0607 | 🟢 Train Acc: 0.9810\n",
      "📉 Val Loss:   0.0413 | 🔵 Val Acc:   0.9795\n"
     ]
    },
    {
     "name": "stderr",
     "output_type": "stream",
     "text": [
      "Epoch 11/30: 100%|█████████████████████████████████████████████████████████████████████| 43/43 [08:15<00:00, 11.52s/it]\n"
     ]
    },
    {
     "name": "stdout",
     "output_type": "stream",
     "text": [
      "\n",
      "⏱ Epoch Time: 523.93s\n",
      "📉 Train Loss: 0.0423 | 🟢 Train Acc: 0.9891\n",
      "📉 Val Loss:   0.0211 | 🔵 Val Acc:   0.9971\n"
     ]
    },
    {
     "name": "stderr",
     "output_type": "stream",
     "text": [
      "Epoch 12/30: 100%|█████████████████████████████████████████████████████████████████████| 43/43 [06:44<00:00,  9.41s/it]\n"
     ]
    },
    {
     "name": "stdout",
     "output_type": "stream",
     "text": [
      "\n",
      "⏱ Epoch Time: 433.19s\n",
      "📉 Train Loss: 0.0368 | 🟢 Train Acc: 0.9927\n",
      "📉 Val Loss:   0.0325 | 🔵 Val Acc:   0.9912\n"
     ]
    },
    {
     "name": "stderr",
     "output_type": "stream",
     "text": [
      "Epoch 13/30: 100%|█████████████████████████████████████████████████████████████████████| 43/43 [06:46<00:00,  9.45s/it]\n"
     ]
    },
    {
     "name": "stdout",
     "output_type": "stream",
     "text": [
      "\n",
      "⏱ Epoch Time: 434.88s\n",
      "📉 Train Loss: 0.0277 | 🟢 Train Acc: 0.9920\n",
      "📉 Val Loss:   0.0156 | 🔵 Val Acc:   0.9942\n"
     ]
    },
    {
     "name": "stderr",
     "output_type": "stream",
     "text": [
      "Epoch 14/30: 100%|█████████████████████████████████████████████████████████████████████| 43/43 [07:00<00:00,  9.79s/it]\n"
     ]
    },
    {
     "name": "stdout",
     "output_type": "stream",
     "text": [
      "\n",
      "⏱ Epoch Time: 451.99s\n",
      "📉 Train Loss: 0.0315 | 🟢 Train Acc: 0.9927\n",
      "📉 Val Loss:   0.0267 | 🔵 Val Acc:   0.9942\n"
     ]
    },
    {
     "name": "stderr",
     "output_type": "stream",
     "text": [
      "Epoch 15/30: 100%|█████████████████████████████████████████████████████████████████████| 43/43 [07:05<00:00,  9.89s/it]\n"
     ]
    },
    {
     "name": "stdout",
     "output_type": "stream",
     "text": [
      "\n",
      "⏱ Epoch Time: 460.18s\n",
      "📉 Train Loss: 0.0295 | 🟢 Train Acc: 0.9912\n",
      "📉 Val Loss:   0.0185 | 🔵 Val Acc:   0.9942\n"
     ]
    },
    {
     "name": "stderr",
     "output_type": "stream",
     "text": [
      "Epoch 16/30: 100%|█████████████████████████████████████████████████████████████████████| 43/43 [07:02<00:00,  9.82s/it]\n"
     ]
    },
    {
     "name": "stdout",
     "output_type": "stream",
     "text": [
      "\n",
      "⏱ Epoch Time: 463.94s\n",
      "📉 Train Loss: 0.0211 | 🟢 Train Acc: 0.9927\n",
      "📉 Val Loss:   0.0204 | 🔵 Val Acc:   0.9912\n"
     ]
    },
    {
     "name": "stderr",
     "output_type": "stream",
     "text": [
      "Epoch 17/30: 100%|█████████████████████████████████████████████████████████████████████| 43/43 [11:18<00:00, 15.79s/it]\n"
     ]
    },
    {
     "name": "stdout",
     "output_type": "stream",
     "text": [
      "\n",
      "⏱ Epoch Time: 722.02s\n",
      "📉 Train Loss: 0.0173 | 🟢 Train Acc: 0.9964\n",
      "📉 Val Loss:   0.0193 | 🔵 Val Acc:   0.9912\n"
     ]
    },
    {
     "name": "stderr",
     "output_type": "stream",
     "text": [
      "Epoch 18/30: 100%|█████████████████████████████████████████████████████████████████████| 43/43 [10:32<00:00, 14.71s/it]\n"
     ]
    },
    {
     "name": "stdout",
     "output_type": "stream",
     "text": [
      "\n",
      "⏱ Epoch Time: 676.63s\n",
      "📉 Train Loss: 0.0182 | 🟢 Train Acc: 0.9978\n",
      "📉 Val Loss:   0.0336 | 🔵 Val Acc:   0.9883\n"
     ]
    },
    {
     "name": "stderr",
     "output_type": "stream",
     "text": [
      "Epoch 19/30: 100%|█████████████████████████████████████████████████████████████████████| 43/43 [10:44<00:00, 14.98s/it]\n"
     ]
    },
    {
     "name": "stdout",
     "output_type": "stream",
     "text": [
      "\n",
      "⏱ Epoch Time: 688.54s\n",
      "📉 Train Loss: 0.0108 | 🟢 Train Acc: 0.9993\n",
      "📉 Val Loss:   0.0268 | 🔵 Val Acc:   0.9912\n"
     ]
    },
    {
     "name": "stderr",
     "output_type": "stream",
     "text": [
      "Epoch 20/30: 100%|█████████████████████████████████████████████████████████████████████| 43/43 [08:21<00:00, 11.66s/it]\n"
     ]
    },
    {
     "name": "stdout",
     "output_type": "stream",
     "text": [
      "\n",
      "⏱ Epoch Time: 532.56s\n",
      "📉 Train Loss: 0.0127 | 🟢 Train Acc: 0.9964\n",
      "📉 Val Loss:   0.0264 | 🔵 Val Acc:   0.9942\n"
     ]
    },
    {
     "name": "stderr",
     "output_type": "stream",
     "text": [
      "Epoch 21/30: 100%|█████████████████████████████████████████████████████████████████████| 43/43 [07:00<00:00,  9.78s/it]\n"
     ]
    },
    {
     "name": "stdout",
     "output_type": "stream",
     "text": [
      "\n",
      "⏱ Epoch Time: 451.32s\n",
      "📉 Train Loss: 0.0109 | 🟢 Train Acc: 0.9964\n",
      "📉 Val Loss:   0.0335 | 🔵 Val Acc:   0.9942\n"
     ]
    },
    {
     "name": "stderr",
     "output_type": "stream",
     "text": [
      "Epoch 22/30: 100%|█████████████████████████████████████████████████████████████████████| 43/43 [09:30<00:00, 13.27s/it]\n"
     ]
    },
    {
     "name": "stdout",
     "output_type": "stream",
     "text": [
      "\n",
      "⏱ Epoch Time: 615.95s\n",
      "📉 Train Loss: 0.0121 | 🟢 Train Acc: 0.9964\n",
      "📉 Val Loss:   0.0347 | 🔵 Val Acc:   0.9912\n"
     ]
    },
    {
     "name": "stderr",
     "output_type": "stream",
     "text": [
      "Epoch 23/30: 100%|█████████████████████████████████████████████████████████████████████| 43/43 [10:09<00:00, 14.18s/it]\n"
     ]
    },
    {
     "name": "stdout",
     "output_type": "stream",
     "text": [
      "\n",
      "⏱ Epoch Time: 641.06s\n",
      "📉 Train Loss: 0.0192 | 🟢 Train Acc: 0.9971\n",
      "📉 Val Loss:   0.0225 | 🔵 Val Acc:   0.9942\n"
     ]
    },
    {
     "name": "stderr",
     "output_type": "stream",
     "text": [
      "Epoch 24/30: 100%|██████████████████████████████████████████████████████████████████| 43/43 [1:35:30<00:00, 133.27s/it]\n"
     ]
    },
    {
     "name": "stdout",
     "output_type": "stream",
     "text": [
      "\n",
      "⏱ Epoch Time: 5762.23s\n",
      "📉 Train Loss: 0.0102 | 🟢 Train Acc: 0.9985\n",
      "📉 Val Loss:   0.0221 | 🔵 Val Acc:   0.9942\n"
     ]
    },
    {
     "name": "stderr",
     "output_type": "stream",
     "text": [
      "Epoch 25/30: 100%|█████████████████████████████████████████████████████████████████████| 43/43 [07:07<00:00,  9.94s/it]\n"
     ]
    },
    {
     "name": "stdout",
     "output_type": "stream",
     "text": [
      "\n",
      "⏱ Epoch Time: 458.64s\n",
      "📉 Train Loss: 0.0186 | 🟢 Train Acc: 0.9956\n",
      "📉 Val Loss:   0.0172 | 🔵 Val Acc:   0.9971\n"
     ]
    },
    {
     "name": "stderr",
     "output_type": "stream",
     "text": [
      "Epoch 26/30: 100%|█████████████████████████████████████████████████████████████████████| 43/43 [06:58<00:00,  9.74s/it]\n"
     ]
    },
    {
     "name": "stdout",
     "output_type": "stream",
     "text": [
      "\n",
      "⏱ Epoch Time: 451.80s\n",
      "📉 Train Loss: 0.0094 | 🟢 Train Acc: 0.9993\n",
      "📉 Val Loss:   0.0286 | 🔵 Val Acc:   0.9942\n"
     ]
    },
    {
     "name": "stderr",
     "output_type": "stream",
     "text": [
      "Epoch 27/30: 100%|█████████████████████████████████████████████████████████████████████| 43/43 [08:03<00:00, 11.25s/it]\n"
     ]
    },
    {
     "name": "stdout",
     "output_type": "stream",
     "text": [
      "\n",
      "⏱ Epoch Time: 524.95s\n",
      "📉 Train Loss: 0.0080 | 🟢 Train Acc: 0.9993\n",
      "📉 Val Loss:   0.0275 | 🔵 Val Acc:   0.9942\n"
     ]
    },
    {
     "name": "stderr",
     "output_type": "stream",
     "text": [
      "Epoch 28/30: 100%|█████████████████████████████████████████████████████████████████████| 43/43 [10:22<00:00, 14.47s/it]\n"
     ]
    },
    {
     "name": "stdout",
     "output_type": "stream",
     "text": [
      "\n",
      "⏱ Epoch Time: 669.10s\n",
      "📉 Train Loss: 0.0116 | 🟢 Train Acc: 0.9971\n",
      "📉 Val Loss:   0.0279 | 🔵 Val Acc:   0.9942\n"
     ]
    },
    {
     "name": "stderr",
     "output_type": "stream",
     "text": [
      "Epoch 29/30: 100%|█████████████████████████████████████████████████████████████████████| 43/43 [10:09<00:00, 14.16s/it]\n"
     ]
    },
    {
     "name": "stdout",
     "output_type": "stream",
     "text": [
      "\n",
      "⏱ Epoch Time: 653.66s\n",
      "📉 Train Loss: 0.0080 | 🟢 Train Acc: 0.9985\n",
      "📉 Val Loss:   0.0242 | 🔵 Val Acc:   0.9942\n"
     ]
    },
    {
     "name": "stderr",
     "output_type": "stream",
     "text": [
      "Epoch 30/30: 100%|█████████████████████████████████████████████████████████████████████| 43/43 [10:48<00:00, 15.09s/it]\n"
     ]
    },
    {
     "name": "stdout",
     "output_type": "stream",
     "text": [
      "\n",
      "⏱ Epoch Time: 698.70s\n",
      "📉 Train Loss: 0.0103 | 🟢 Train Acc: 0.9985\n",
      "📉 Val Loss:   0.0282 | 🔵 Val Acc:   0.9942\n",
      "✅ ConvNeXt-Tiny training complete!\n"
     ]
    }
   ],
   "source": [
    "import torch\n",
    "import torch.nn as nn\n",
    "import torch.optim as optim\n",
    "from torch.utils.data import DataLoader, random_split\n",
    "from torchvision.models import convnext_tiny\n",
    "from sklearn.metrics import accuracy_score\n",
    "from tqdm import tqdm\n",
    "import time\n",
    "\n",
    "# === Load Dataset ===\n",
    "dataset = CTSliceDataset(r\"F:\\INT500\\CLAUDE\\processed_data\\metadata.csv\", augment=True)\n",
    "val_split = 0.2\n",
    "val_size = int(len(dataset) * val_split)\n",
    "train_size = len(dataset) - val_size\n",
    "train_set, val_set = random_split(dataset, [train_size, val_size])\n",
    "\n",
    "train_loader = DataLoader(train_set, batch_size=32, shuffle=True)\n",
    "val_loader = DataLoader(val_set, batch_size=32, shuffle=False)\n",
    "\n",
    "# === Build ConvNeXt-Tiny ===\n",
    "device = torch.device(\"cuda\" if torch.cuda.is_available() else \"cpu\")\n",
    "model = convnext_tiny(weights=\"IMAGENET1K_V1\")\n",
    "\n",
    "# Modify input to accept 1 channel instead of 3\n",
    "model.features[0][0] = nn.Conv2d(1, 96, kernel_size=4, stride=4)\n",
    "model.classifier[2] = nn.Linear(model.classifier[2].in_features, 3)  # 3 classes\n",
    "\n",
    "model = model.to(device)\n",
    "\n",
    "# === Loss & Optimizer ===\n",
    "criterion = nn.CrossEntropyLoss()\n",
    "optimizer = optim.Adam(model.parameters(), lr=1e-4)\n",
    "scheduler = optim.lr_scheduler.StepLR(optimizer, step_size=5, gamma=0.5)\n",
    "\n",
    "# === Training ===\n",
    "EPOCHS = 30\n",
    "for epoch in range(EPOCHS):\n",
    "    start_time = time.time()\n",
    "    model.train()\n",
    "    train_loss, train_preds, train_labels = [], [], []\n",
    "\n",
    "    for images, labels in tqdm(train_loader, desc=f\"Epoch {epoch+1}/{EPOCHS}\"):\n",
    "        images, labels = images.to(device), labels.to(device)\n",
    "        optimizer.zero_grad()\n",
    "        outputs = model(images)\n",
    "        loss = criterion(outputs, labels)\n",
    "        loss.backward()\n",
    "        optimizer.step()\n",
    "\n",
    "        train_loss.append(loss.item())\n",
    "        train_preds.extend(outputs.argmax(dim=1).cpu().numpy())\n",
    "        train_labels.extend(labels.cpu().numpy())\n",
    "\n",
    "    train_acc = accuracy_score(train_labels, train_preds)\n",
    "\n",
    "    # === Validation ===\n",
    "    model.eval()\n",
    "    val_loss, val_preds, val_labels = [], [], []\n",
    "\n",
    "    with torch.no_grad():\n",
    "        for images, labels in val_loader:\n",
    "            images, labels = images.to(device), labels.to(device)\n",
    "            outputs = model(images)\n",
    "            loss = criterion(outputs, labels)\n",
    "\n",
    "            val_loss.append(loss.item())\n",
    "            val_preds.extend(outputs.argmax(dim=1).cpu().numpy())\n",
    "            val_labels.extend(labels.cpu().numpy())\n",
    "\n",
    "    val_acc = accuracy_score(val_labels, val_preds)\n",
    "    scheduler.step()\n",
    "\n",
    "    print(f\"\\n⏱ Epoch Time: {time.time() - start_time:.2f}s\")\n",
    "    print(f\"📉 Train Loss: {sum(train_loss)/len(train_loss):.4f} | 🟢 Train Acc: {train_acc:.4f}\")\n",
    "    print(f\"📉 Val Loss:   {sum(val_loss)/len(val_loss):.4f} | 🔵 Val Acc:   {val_acc:.4f}\")\n",
    "\n",
    "print(\"✅ ConvNeXt-Tiny training complete!\")\n"
   ]
  },
  {
   "cell_type": "code",
   "execution_count": null,
   "id": "f6c18b2d-4bfe-4e75-b9a6-202e3f3596ae",
   "metadata": {},
   "outputs": [],
   "source": []
  },
  {
   "cell_type": "code",
   "execution_count": 56,
   "id": "fc4ac936-db55-442f-b2ad-b18cbe703e57",
   "metadata": {},
   "outputs": [],
   "source": [
    "from sklearn.metrics import classification_report, confusion_matrix\n",
    "import seaborn as sns\n",
    "import matplotlib.pyplot as plt\n",
    "\n",
    "def validate_model(model, val_loader, device, class_names=[\"Stage II\", \"Stage III\", \"Stage IV\"], model_name=\"Model\"):\n",
    "    model.eval()\n",
    "    y_true = []\n",
    "    y_pred = []\n",
    "\n",
    "    with torch.no_grad():\n",
    "        for images, labels in val_loader:\n",
    "            images, labels = images.to(device), labels.to(device)\n",
    "            outputs = model(images)\n",
    "            preds = outputs.argmax(dim=1)\n",
    "            y_true.extend(labels.cpu().numpy())\n",
    "            y_pred.extend(preds.cpu().numpy())\n",
    "\n",
    "    print(f\"\\n📊 Classification Report for {model_name}:\\n\")\n",
    "    print(classification_report(y_true, y_pred, target_names=class_names, digits=4))\n",
    "\n",
    "    cm = confusion_matrix(y_true, y_pred)\n",
    "    plt.figure(figsize=(6, 5))\n",
    "    sns.heatmap(cm, annot=True, fmt='d', cmap='Blues',\n",
    "                xticklabels=class_names, yticklabels=class_names)\n",
    "    plt.title(f\"{model_name} Confusion Matrix\")\n",
    "    plt.xlabel(\"Predicted\")\n",
    "    plt.ylabel(\"Actual\")\n",
    "    plt.tight_layout()\n",
    "    plt.show()"
   ]
  },
  {
   "cell_type": "code",
   "execution_count": 58,
   "id": "c385754a-e9eb-4dc4-bfa8-bc992be178a9",
   "metadata": {},
   "outputs": [
    {
     "name": "stdout",
     "output_type": "stream",
     "text": [
      "\n",
      "📊 Classification Report for ResNet18:\n",
      "\n",
      "              precision    recall  f1-score   support\n",
      "\n",
      "    Stage II     1.0000    0.9835    0.9917       121\n",
      "   Stage III     0.9905    1.0000    0.9952       104\n",
      "    Stage IV     0.9915    1.0000    0.9957       117\n",
      "\n",
      "    accuracy                         0.9942       342\n",
      "   macro avg     0.9940    0.9945    0.9942       342\n",
      "weighted avg     0.9942    0.9942    0.9941       342\n",
      "\n"
     ]
    },
    {
     "data": {
      "image/png": "[encoded data removed]",
      "text/plain": [
       "<Figure size 600x500 with 2 Axes>"
      ]
     },
     "metadata": {},
     "output_type": "display_data"
    }
   ],
   "source": [
    "validate_model(model, val_loader, device, model_name=\"ResNet18\")"
   ]
  },
  {
   "cell_type": "code",
   "execution_count": 60,
   "id": "203eadc5-97ac-4ff1-abc1-3fad4255c748",
   "metadata": {},
   "outputs": [
    {
     "name": "stdout",
     "output_type": "stream",
     "text": [
      "\n",
      "📊 Classification Report for EfficientNetB0:\n",
      "\n",
      "              precision    recall  f1-score   support\n",
      "\n",
      "    Stage II     1.0000    0.9917    0.9959       121\n",
      "   Stage III     1.0000    1.0000    1.0000       104\n",
      "    Stage IV     0.9915    1.0000    0.9957       117\n",
      "\n",
      "    accuracy                         0.9971       342\n",
      "   macro avg     0.9972    0.9972    0.9972       342\n",
      "weighted avg     0.9971    0.9971    0.9971       342\n",
      "\n"
     ]
    },
    {
     "data": {
      "image/png": "[encoded data removed]",
      "text/plain": [
       "<Figure size 600x500 with 2 Axes>"
      ]
     },
     "metadata": {},
     "output_type": "display_data"
    }
   ],
   "source": [
    "validate_model(model, val_loader, device, model_name=\"EfficientNetB0\")\n"
   ]
  },
  {
   "cell_type": "code",
   "execution_count": 61,
   "id": "a08e4b05-b923-4d48-b1b5-aa9eaebe794c",
   "metadata": {},
   "outputs": [
    {
     "name": "stdout",
     "output_type": "stream",
     "text": [
      "\n",
      "📊 Classification Report for ConvNeXt-Tiny:\n",
      "\n",
      "              precision    recall  f1-score   support\n",
      "\n",
      "    Stage II     1.0000    0.9835    0.9917       121\n",
      "   Stage III     0.9905    1.0000    0.9952       104\n",
      "    Stage IV     0.9915    1.0000    0.9957       117\n",
      "\n",
      "    accuracy                         0.9942       342\n",
      "   macro avg     0.9940    0.9945    0.9942       342\n",
      "weighted avg     0.9942    0.9942    0.9941       342\n",
      "\n"
     ]
    },
    {
     "data": {
      "image/png": "[encoded data removed]",
      "text/plain": [
       "<Figure size 600x500 with 2 Axes>"
      ]
     },
     "metadata": {},
     "output_type": "display_data"
    }
   ],
   "source": [
    "validate_model(model, val_loader, device, model_name=\"ConvNeXt-Tiny\")"
   ]
  },
  {
   "cell_type": "code",
   "execution_count": 79,
   "id": "cd154fe7-0bd0-449b-b437-e9f9c95a417c",
   "metadata": {},
   "outputs": [
    {
     "name": "stdout",
     "output_type": "stream",
     "text": [
      "Collecting torchsummary\n",
      "  Downloading torchsummary-1.5.1-py3-none-any.whl.metadata (296 bytes)\n",
      "Downloading torchsummary-1.5.1-py3-none-any.whl (2.8 kB)\n",
      "Installing collected packages: torchsummary\n",
      "Successfully installed torchsummary-1.5.1\n",
      "Note: you may need to restart the kernel to use updated packages.\n"
     ]
    }
   ],
   "source": [
    "pip install torchsummary"
   ]
  },
  {
   "cell_type": "code",
   "execution_count": 81,
   "id": "bcda374a-4595-4155-a40a-c08d7230bd59",
   "metadata": {},
   "outputs": [],
   "source": [
    "from torchsummary import summary\n",
    "import torch\n",
    "import torch.nn as nn\n",
    "from torchvision.models import resnet18, efficientnet_b0, convnext_tiny\n"
   ]
  },
  {
   "cell_type": "code",
   "execution_count": 83,
   "id": "6f88c37c-e62b-45ab-9451-9fd92375d479",
   "metadata": {},
   "outputs": [
    {
     "name": "stdout",
     "output_type": "stream",
     "text": [
      "----------------------------------------------------------------\n",
      "        Layer (type)               Output Shape         Param #\n",
      "================================================================\n",
      "            Conv2d-1         [-1, 64, 112, 112]           3,136\n",
      "       BatchNorm2d-2         [-1, 64, 112, 112]             128\n",
      "              ReLU-3         [-1, 64, 112, 112]               0\n",
      "         MaxPool2d-4           [-1, 64, 56, 56]               0\n",
      "            Conv2d-5           [-1, 64, 56, 56]          36,864\n",
      "       BatchNorm2d-6           [-1, 64, 56, 56]             128\n",
      "              ReLU-7           [-1, 64, 56, 56]               0\n",
      "            Conv2d-8           [-1, 64, 56, 56]          36,864\n",
      "       BatchNorm2d-9           [-1, 64, 56, 56]             128\n",
      "             ReLU-10           [-1, 64, 56, 56]               0\n",
      "       BasicBlock-11           [-1, 64, 56, 56]               0\n",
      "           Conv2d-12           [-1, 64, 56, 56]          36,864\n",
      "      BatchNorm2d-13           [-1, 64, 56, 56]             128\n",
      "             ReLU-14           [-1, 64, 56, 56]               0\n",
      "           Conv2d-15           [-1, 64, 56, 56]          36,864\n",
      "      BatchNorm2d-16           [-1, 64, 56, 56]             128\n",
      "             ReLU-17           [-1, 64, 56, 56]               0\n",
      "       BasicBlock-18           [-1, 64, 56, 56]               0\n",
      "           Conv2d-19          [-1, 128, 28, 28]          73,728\n",
      "      BatchNorm2d-20          [-1, 128, 28, 28]             256\n",
      "             ReLU-21          [-1, 128, 28, 28]               0\n",
      "           Conv2d-22          [-1, 128, 28, 28]         147,456\n",
      "      BatchNorm2d-23          [-1, 128, 28, 28]             256\n",
      "           Conv2d-24          [-1, 128, 28, 28]           8,192\n",
      "      BatchNorm2d-25          [-1, 128, 28, 28]             256\n",
      "             ReLU-26          [-1, 128, 28, 28]               0\n",
      "       BasicBlock-27          [-1, 128, 28, 28]               0\n",
      "           Conv2d-28          [-1, 128, 28, 28]         147,456\n",
      "      BatchNorm2d-29          [-1, 128, 28, 28]             256\n",
      "             ReLU-30          [-1, 128, 28, 28]               0\n",
      "           Conv2d-31          [-1, 128, 28, 28]         147,456\n",
      "      BatchNorm2d-32          [-1, 128, 28, 28]             256\n",
      "             ReLU-33          [-1, 128, 28, 28]               0\n",
      "       BasicBlock-34          [-1, 128, 28, 28]               0\n",
      "           Conv2d-35          [-1, 256, 14, 14]         294,912\n",
      "      BatchNorm2d-36          [-1, 256, 14, 14]             512\n",
      "             ReLU-37          [-1, 256, 14, 14]               0\n",
      "           Conv2d-38          [-1, 256, 14, 14]         589,824\n",
      "      BatchNorm2d-39          [-1, 256, 14, 14]             512\n",
      "           Conv2d-40          [-1, 256, 14, 14]          32,768\n",
      "      BatchNorm2d-41          [-1, 256, 14, 14]             512\n",
      "             ReLU-42          [-1, 256, 14, 14]               0\n",
      "       BasicBlock-43          [-1, 256, 14, 14]               0\n",
      "           Conv2d-44          [-1, 256, 14, 14]         589,824\n",
      "      BatchNorm2d-45          [-1, 256, 14, 14]             512\n",
      "             ReLU-46          [-1, 256, 14, 14]               0\n",
      "           Conv2d-47          [-1, 256, 14, 14]         589,824\n",
      "      BatchNorm2d-48          [-1, 256, 14, 14]             512\n",
      "             ReLU-49          [-1, 256, 14, 14]               0\n",
      "       BasicBlock-50          [-1, 256, 14, 14]               0\n",
      "           Conv2d-51            [-1, 512, 7, 7]       1,179,648\n",
      "      BatchNorm2d-52            [-1, 512, 7, 7]           1,024\n",
      "             ReLU-53            [-1, 512, 7, 7]               0\n",
      "           Conv2d-54            [-1, 512, 7, 7]       2,359,296\n",
      "      BatchNorm2d-55            [-1, 512, 7, 7]           1,024\n",
      "           Conv2d-56            [-1, 512, 7, 7]         131,072\n",
      "      BatchNorm2d-57            [-1, 512, 7, 7]           1,024\n",
      "             ReLU-58            [-1, 512, 7, 7]               0\n",
      "       BasicBlock-59            [-1, 512, 7, 7]               0\n",
      "           Conv2d-60            [-1, 512, 7, 7]       2,359,296\n",
      "      BatchNorm2d-61            [-1, 512, 7, 7]           1,024\n",
      "             ReLU-62            [-1, 512, 7, 7]               0\n",
      "           Conv2d-63            [-1, 512, 7, 7]       2,359,296\n",
      "      BatchNorm2d-64            [-1, 512, 7, 7]           1,024\n",
      "             ReLU-65            [-1, 512, 7, 7]               0\n",
      "       BasicBlock-66            [-1, 512, 7, 7]               0\n",
      "AdaptiveAvgPool2d-67            [-1, 512, 1, 1]               0\n",
      "           Linear-68                    [-1, 3]           1,539\n",
      "================================================================\n",
      "Total params: 11,171,779\n",
      "Trainable params: 11,171,779\n",
      "Non-trainable params: 0\n",
      "----------------------------------------------------------------\n",
      "Input size (MB): 0.19\n",
      "Forward/backward pass size (MB): 62.79\n",
      "Params size (MB): 42.62\n",
      "Estimated Total Size (MB): 105.59\n",
      "----------------------------------------------------------------\n"
     ]
    }
   ],
   "source": [
    "model_resnet = resnet18(weights=\"IMAGENET1K_V1\")\n",
    "model_resnet.conv1 = nn.Conv2d(1, 64, kernel_size=7, stride=2, padding=3, bias=False)\n",
    "model_resnet.fc = nn.Linear(model_resnet.fc.in_features, 3)\n",
    "model_resnet.to(\"cuda\" if torch.cuda.is_available() else \"cpu\")\n",
    "\n",
    "summary(model_resnet, input_size=(1, 224, 224))\n"
   ]
  },
  {
   "cell_type": "code",
   "execution_count": 85,
   "id": "81251c42-1db1-4f5f-9a17-526ace559593",
   "metadata": {},
   "outputs": [
    {
     "name": "stdout",
     "output_type": "stream",
     "text": [
      "----------------------------------------------------------------\n",
      "        Layer (type)               Output Shape         Param #\n",
      "================================================================\n",
      "            Conv2d-1         [-1, 32, 112, 112]             288\n",
      "       BatchNorm2d-2         [-1, 32, 112, 112]              64\n",
      "              SiLU-3         [-1, 32, 112, 112]               0\n",
      "            Conv2d-4         [-1, 32, 112, 112]             288\n",
      "       BatchNorm2d-5         [-1, 32, 112, 112]              64\n",
      "              SiLU-6         [-1, 32, 112, 112]               0\n",
      " AdaptiveAvgPool2d-7             [-1, 32, 1, 1]               0\n",
      "            Conv2d-8              [-1, 8, 1, 1]             264\n",
      "              SiLU-9              [-1, 8, 1, 1]               0\n",
      "           Conv2d-10             [-1, 32, 1, 1]             288\n",
      "          Sigmoid-11             [-1, 32, 1, 1]               0\n",
      "SqueezeExcitation-12         [-1, 32, 112, 112]               0\n",
      "           Conv2d-13         [-1, 16, 112, 112]             512\n",
      "      BatchNorm2d-14         [-1, 16, 112, 112]              32\n",
      "           MBConv-15         [-1, 16, 112, 112]               0\n",
      "           Conv2d-16         [-1, 96, 112, 112]           1,536\n",
      "      BatchNorm2d-17         [-1, 96, 112, 112]             192\n",
      "             SiLU-18         [-1, 96, 112, 112]               0\n",
      "           Conv2d-19           [-1, 96, 56, 56]             864\n",
      "      BatchNorm2d-20           [-1, 96, 56, 56]             192\n",
      "             SiLU-21           [-1, 96, 56, 56]               0\n",
      "AdaptiveAvgPool2d-22             [-1, 96, 1, 1]               0\n",
      "           Conv2d-23              [-1, 4, 1, 1]             388\n",
      "             SiLU-24              [-1, 4, 1, 1]               0\n",
      "           Conv2d-25             [-1, 96, 1, 1]             480\n",
      "          Sigmoid-26             [-1, 96, 1, 1]               0\n",
      "SqueezeExcitation-27           [-1, 96, 56, 56]               0\n",
      "           Conv2d-28           [-1, 24, 56, 56]           2,304\n",
      "      BatchNorm2d-29           [-1, 24, 56, 56]              48\n",
      "           MBConv-30           [-1, 24, 56, 56]               0\n",
      "           Conv2d-31          [-1, 144, 56, 56]           3,456\n",
      "      BatchNorm2d-32          [-1, 144, 56, 56]             288\n",
      "             SiLU-33          [-1, 144, 56, 56]               0\n",
      "           Conv2d-34          [-1, 144, 56, 56]           1,296\n",
      "      BatchNorm2d-35          [-1, 144, 56, 56]             288\n",
      "             SiLU-36          [-1, 144, 56, 56]               0\n",
      "AdaptiveAvgPool2d-37            [-1, 144, 1, 1]               0\n",
      "           Conv2d-38              [-1, 6, 1, 1]             870\n",
      "             SiLU-39              [-1, 6, 1, 1]               0\n",
      "           Conv2d-40            [-1, 144, 1, 1]           1,008\n",
      "          Sigmoid-41            [-1, 144, 1, 1]               0\n",
      "SqueezeExcitation-42          [-1, 144, 56, 56]               0\n",
      "           Conv2d-43           [-1, 24, 56, 56]           3,456\n",
      "      BatchNorm2d-44           [-1, 24, 56, 56]              48\n",
      "  StochasticDepth-45           [-1, 24, 56, 56]               0\n",
      "           MBConv-46           [-1, 24, 56, 56]               0\n",
      "           Conv2d-47          [-1, 144, 56, 56]           3,456\n",
      "      BatchNorm2d-48          [-1, 144, 56, 56]             288\n",
      "             SiLU-49          [-1, 144, 56, 56]               0\n",
      "           Conv2d-50          [-1, 144, 28, 28]           3,600\n",
      "      BatchNorm2d-51          [-1, 144, 28, 28]             288\n",
      "             SiLU-52          [-1, 144, 28, 28]               0\n",
      "AdaptiveAvgPool2d-53            [-1, 144, 1, 1]               0\n",
      "           Conv2d-54              [-1, 6, 1, 1]             870\n",
      "             SiLU-55              [-1, 6, 1, 1]               0\n",
      "           Conv2d-56            [-1, 144, 1, 1]           1,008\n",
      "          Sigmoid-57            [-1, 144, 1, 1]               0\n",
      "SqueezeExcitation-58          [-1, 144, 28, 28]               0\n",
      "           Conv2d-59           [-1, 40, 28, 28]           5,760\n",
      "      BatchNorm2d-60           [-1, 40, 28, 28]              80\n",
      "           MBConv-61           [-1, 40, 28, 28]               0\n",
      "           Conv2d-62          [-1, 240, 28, 28]           9,600\n",
      "      BatchNorm2d-63          [-1, 240, 28, 28]             480\n",
      "             SiLU-64          [-1, 240, 28, 28]               0\n",
      "           Conv2d-65          [-1, 240, 28, 28]           6,000\n",
      "      BatchNorm2d-66          [-1, 240, 28, 28]             480\n",
      "             SiLU-67          [-1, 240, 28, 28]               0\n",
      "AdaptiveAvgPool2d-68            [-1, 240, 1, 1]               0\n",
      "           Conv2d-69             [-1, 10, 1, 1]           2,410\n",
      "             SiLU-70             [-1, 10, 1, 1]               0\n",
      "           Conv2d-71            [-1, 240, 1, 1]           2,640\n",
      "          Sigmoid-72            [-1, 240, 1, 1]               0\n",
      "SqueezeExcitation-73          [-1, 240, 28, 28]               0\n",
      "           Conv2d-74           [-1, 40, 28, 28]           9,600\n",
      "      BatchNorm2d-75           [-1, 40, 28, 28]              80\n",
      "  StochasticDepth-76           [-1, 40, 28, 28]               0\n",
      "           MBConv-77           [-1, 40, 28, 28]               0\n",
      "           Conv2d-78          [-1, 240, 28, 28]           9,600\n",
      "      BatchNorm2d-79          [-1, 240, 28, 28]             480\n",
      "             SiLU-80          [-1, 240, 28, 28]               0\n",
      "           Conv2d-81          [-1, 240, 14, 14]           2,160\n",
      "      BatchNorm2d-82          [-1, 240, 14, 14]             480\n",
      "             SiLU-83          [-1, 240, 14, 14]               0\n",
      "AdaptiveAvgPool2d-84            [-1, 240, 1, 1]               0\n",
      "           Conv2d-85             [-1, 10, 1, 1]           2,410\n",
      "             SiLU-86             [-1, 10, 1, 1]               0\n",
      "           Conv2d-87            [-1, 240, 1, 1]           2,640\n",
      "          Sigmoid-88            [-1, 240, 1, 1]               0\n",
      "SqueezeExcitation-89          [-1, 240, 14, 14]               0\n",
      "           Conv2d-90           [-1, 80, 14, 14]          19,200\n",
      "      BatchNorm2d-91           [-1, 80, 14, 14]             160\n",
      "           MBConv-92           [-1, 80, 14, 14]               0\n",
      "           Conv2d-93          [-1, 480, 14, 14]          38,400\n",
      "      BatchNorm2d-94          [-1, 480, 14, 14]             960\n",
      "             SiLU-95          [-1, 480, 14, 14]               0\n",
      "           Conv2d-96          [-1, 480, 14, 14]           4,320\n",
      "      BatchNorm2d-97          [-1, 480, 14, 14]             960\n",
      "             SiLU-98          [-1, 480, 14, 14]               0\n",
      "AdaptiveAvgPool2d-99            [-1, 480, 1, 1]               0\n",
      "          Conv2d-100             [-1, 20, 1, 1]           9,620\n",
      "            SiLU-101             [-1, 20, 1, 1]               0\n",
      "          Conv2d-102            [-1, 480, 1, 1]          10,080\n",
      "         Sigmoid-103            [-1, 480, 1, 1]               0\n",
      "SqueezeExcitation-104          [-1, 480, 14, 14]               0\n",
      "          Conv2d-105           [-1, 80, 14, 14]          38,400\n",
      "     BatchNorm2d-106           [-1, 80, 14, 14]             160\n",
      " StochasticDepth-107           [-1, 80, 14, 14]               0\n",
      "          MBConv-108           [-1, 80, 14, 14]               0\n",
      "          Conv2d-109          [-1, 480, 14, 14]          38,400\n",
      "     BatchNorm2d-110          [-1, 480, 14, 14]             960\n",
      "            SiLU-111          [-1, 480, 14, 14]               0\n",
      "          Conv2d-112          [-1, 480, 14, 14]           4,320\n",
      "     BatchNorm2d-113          [-1, 480, 14, 14]             960\n",
      "            SiLU-114          [-1, 480, 14, 14]               0\n",
      "AdaptiveAvgPool2d-115            [-1, 480, 1, 1]               0\n",
      "          Conv2d-116             [-1, 20, 1, 1]           9,620\n",
      "            SiLU-117             [-1, 20, 1, 1]               0\n",
      "          Conv2d-118            [-1, 480, 1, 1]          10,080\n",
      "         Sigmoid-119            [-1, 480, 1, 1]               0\n",
      "SqueezeExcitation-120          [-1, 480, 14, 14]               0\n",
      "          Conv2d-121           [-1, 80, 14, 14]          38,400\n",
      "     BatchNorm2d-122           [-1, 80, 14, 14]             160\n",
      " StochasticDepth-123           [-1, 80, 14, 14]               0\n",
      "          MBConv-124           [-1, 80, 14, 14]               0\n",
      "          Conv2d-125          [-1, 480, 14, 14]          38,400\n",
      "     BatchNorm2d-126          [-1, 480, 14, 14]             960\n",
      "            SiLU-127          [-1, 480, 14, 14]               0\n",
      "          Conv2d-128          [-1, 480, 14, 14]          12,000\n",
      "     BatchNorm2d-129          [-1, 480, 14, 14]             960\n",
      "            SiLU-130          [-1, 480, 14, 14]               0\n",
      "AdaptiveAvgPool2d-131            [-1, 480, 1, 1]               0\n",
      "          Conv2d-132             [-1, 20, 1, 1]           9,620\n",
      "            SiLU-133             [-1, 20, 1, 1]               0\n",
      "          Conv2d-134            [-1, 480, 1, 1]          10,080\n",
      "         Sigmoid-135            [-1, 480, 1, 1]               0\n",
      "SqueezeExcitation-136          [-1, 480, 14, 14]               0\n",
      "          Conv2d-137          [-1, 112, 14, 14]          53,760\n",
      "     BatchNorm2d-138          [-1, 112, 14, 14]             224\n",
      "          MBConv-139          [-1, 112, 14, 14]               0\n",
      "          Conv2d-140          [-1, 672, 14, 14]          75,264\n",
      "     BatchNorm2d-141          [-1, 672, 14, 14]           1,344\n",
      "            SiLU-142          [-1, 672, 14, 14]               0\n",
      "          Conv2d-143          [-1, 672, 14, 14]          16,800\n",
      "     BatchNorm2d-144          [-1, 672, 14, 14]           1,344\n",
      "            SiLU-145          [-1, 672, 14, 14]               0\n",
      "AdaptiveAvgPool2d-146            [-1, 672, 1, 1]               0\n",
      "          Conv2d-147             [-1, 28, 1, 1]          18,844\n",
      "            SiLU-148             [-1, 28, 1, 1]               0\n",
      "          Conv2d-149            [-1, 672, 1, 1]          19,488\n",
      "         Sigmoid-150            [-1, 672, 1, 1]               0\n",
      "SqueezeExcitation-151          [-1, 672, 14, 14]               0\n",
      "          Conv2d-152          [-1, 112, 14, 14]          75,264\n",
      "     BatchNorm2d-153          [-1, 112, 14, 14]             224\n",
      " StochasticDepth-154          [-1, 112, 14, 14]               0\n",
      "          MBConv-155          [-1, 112, 14, 14]               0\n",
      "          Conv2d-156          [-1, 672, 14, 14]          75,264\n",
      "     BatchNorm2d-157          [-1, 672, 14, 14]           1,344\n",
      "            SiLU-158          [-1, 672, 14, 14]               0\n",
      "          Conv2d-159          [-1, 672, 14, 14]          16,800\n",
      "     BatchNorm2d-160          [-1, 672, 14, 14]           1,344\n",
      "            SiLU-161          [-1, 672, 14, 14]               0\n",
      "AdaptiveAvgPool2d-162            [-1, 672, 1, 1]               0\n",
      "          Conv2d-163             [-1, 28, 1, 1]          18,844\n",
      "            SiLU-164             [-1, 28, 1, 1]               0\n",
      "          Conv2d-165            [-1, 672, 1, 1]          19,488\n",
      "         Sigmoid-166            [-1, 672, 1, 1]               0\n",
      "SqueezeExcitation-167          [-1, 672, 14, 14]               0\n",
      "          Conv2d-168          [-1, 112, 14, 14]          75,264\n",
      "     BatchNorm2d-169          [-1, 112, 14, 14]             224\n",
      " StochasticDepth-170          [-1, 112, 14, 14]               0\n",
      "          MBConv-171          [-1, 112, 14, 14]               0\n",
      "          Conv2d-172          [-1, 672, 14, 14]          75,264\n",
      "     BatchNorm2d-173          [-1, 672, 14, 14]           1,344\n",
      "            SiLU-174          [-1, 672, 14, 14]               0\n",
      "          Conv2d-175            [-1, 672, 7, 7]          16,800\n",
      "     BatchNorm2d-176            [-1, 672, 7, 7]           1,344\n",
      "            SiLU-177            [-1, 672, 7, 7]               0\n",
      "AdaptiveAvgPool2d-178            [-1, 672, 1, 1]               0\n",
      "          Conv2d-179             [-1, 28, 1, 1]          18,844\n",
      "            SiLU-180             [-1, 28, 1, 1]               0\n",
      "          Conv2d-181            [-1, 672, 1, 1]          19,488\n",
      "         Sigmoid-182            [-1, 672, 1, 1]               0\n",
      "SqueezeExcitation-183            [-1, 672, 7, 7]               0\n",
      "          Conv2d-184            [-1, 192, 7, 7]         129,024\n",
      "     BatchNorm2d-185            [-1, 192, 7, 7]             384\n",
      "          MBConv-186            [-1, 192, 7, 7]               0\n",
      "          Conv2d-187           [-1, 1152, 7, 7]         221,184\n",
      "     BatchNorm2d-188           [-1, 1152, 7, 7]           2,304\n",
      "            SiLU-189           [-1, 1152, 7, 7]               0\n",
      "          Conv2d-190           [-1, 1152, 7, 7]          28,800\n",
      "     BatchNorm2d-191           [-1, 1152, 7, 7]           2,304\n",
      "            SiLU-192           [-1, 1152, 7, 7]               0\n",
      "AdaptiveAvgPool2d-193           [-1, 1152, 1, 1]               0\n",
      "          Conv2d-194             [-1, 48, 1, 1]          55,344\n",
      "            SiLU-195             [-1, 48, 1, 1]               0\n",
      "          Conv2d-196           [-1, 1152, 1, 1]          56,448\n",
      "         Sigmoid-197           [-1, 1152, 1, 1]               0\n",
      "SqueezeExcitation-198           [-1, 1152, 7, 7]               0\n",
      "          Conv2d-199            [-1, 192, 7, 7]         221,184\n",
      "     BatchNorm2d-200            [-1, 192, 7, 7]             384\n",
      " StochasticDepth-201            [-1, 192, 7, 7]               0\n",
      "          MBConv-202            [-1, 192, 7, 7]               0\n",
      "          Conv2d-203           [-1, 1152, 7, 7]         221,184\n",
      "     BatchNorm2d-204           [-1, 1152, 7, 7]           2,304\n",
      "            SiLU-205           [-1, 1152, 7, 7]               0\n",
      "          Conv2d-206           [-1, 1152, 7, 7]          28,800\n",
      "     BatchNorm2d-207           [-1, 1152, 7, 7]           2,304\n",
      "            SiLU-208           [-1, 1152, 7, 7]               0\n",
      "AdaptiveAvgPool2d-209           [-1, 1152, 1, 1]               0\n",
      "          Conv2d-210             [-1, 48, 1, 1]          55,344\n",
      "            SiLU-211             [-1, 48, 1, 1]               0\n",
      "          Conv2d-212           [-1, 1152, 1, 1]          56,448\n",
      "         Sigmoid-213           [-1, 1152, 1, 1]               0\n",
      "SqueezeExcitation-214           [-1, 1152, 7, 7]               0\n",
      "          Conv2d-215            [-1, 192, 7, 7]         221,184\n",
      "     BatchNorm2d-216            [-1, 192, 7, 7]             384\n",
      " StochasticDepth-217            [-1, 192, 7, 7]               0\n",
      "          MBConv-218            [-1, 192, 7, 7]               0\n",
      "          Conv2d-219           [-1, 1152, 7, 7]         221,184\n",
      "     BatchNorm2d-220           [-1, 1152, 7, 7]           2,304\n",
      "            SiLU-221           [-1, 1152, 7, 7]               0\n",
      "          Conv2d-222           [-1, 1152, 7, 7]          28,800\n",
      "     BatchNorm2d-223           [-1, 1152, 7, 7]           2,304\n",
      "            SiLU-224           [-1, 1152, 7, 7]               0\n",
      "AdaptiveAvgPool2d-225           [-1, 1152, 1, 1]               0\n",
      "          Conv2d-226             [-1, 48, 1, 1]          55,344\n",
      "            SiLU-227             [-1, 48, 1, 1]               0\n",
      "          Conv2d-228           [-1, 1152, 1, 1]          56,448\n",
      "         Sigmoid-229           [-1, 1152, 1, 1]               0\n",
      "SqueezeExcitation-230           [-1, 1152, 7, 7]               0\n",
      "          Conv2d-231            [-1, 192, 7, 7]         221,184\n",
      "     BatchNorm2d-232            [-1, 192, 7, 7]             384\n",
      " StochasticDepth-233            [-1, 192, 7, 7]               0\n",
      "          MBConv-234            [-1, 192, 7, 7]               0\n",
      "          Conv2d-235           [-1, 1152, 7, 7]         221,184\n",
      "     BatchNorm2d-236           [-1, 1152, 7, 7]           2,304\n",
      "            SiLU-237           [-1, 1152, 7, 7]               0\n",
      "          Conv2d-238           [-1, 1152, 7, 7]          10,368\n",
      "     BatchNorm2d-239           [-1, 1152, 7, 7]           2,304\n",
      "            SiLU-240           [-1, 1152, 7, 7]               0\n",
      "AdaptiveAvgPool2d-241           [-1, 1152, 1, 1]               0\n",
      "          Conv2d-242             [-1, 48, 1, 1]          55,344\n",
      "            SiLU-243             [-1, 48, 1, 1]               0\n",
      "          Conv2d-244           [-1, 1152, 1, 1]          56,448\n",
      "         Sigmoid-245           [-1, 1152, 1, 1]               0\n",
      "SqueezeExcitation-246           [-1, 1152, 7, 7]               0\n",
      "          Conv2d-247            [-1, 320, 7, 7]         368,640\n",
      "     BatchNorm2d-248            [-1, 320, 7, 7]             640\n",
      "          MBConv-249            [-1, 320, 7, 7]               0\n",
      "          Conv2d-250           [-1, 1280, 7, 7]         409,600\n",
      "     BatchNorm2d-251           [-1, 1280, 7, 7]           2,560\n",
      "            SiLU-252           [-1, 1280, 7, 7]               0\n",
      "AdaptiveAvgPool2d-253           [-1, 1280, 1, 1]               0\n",
      "         Dropout-254                 [-1, 1280]               0\n",
      "          Linear-255                    [-1, 3]           3,843\n",
      "================================================================\n",
      "Total params: 4,010,815\n",
      "Trainable params: 4,010,815\n",
      "Non-trainable params: 0\n",
      "----------------------------------------------------------------\n",
      "Input size (MB): 0.19\n",
      "Forward/backward pass size (MB): 173.64\n",
      "Params size (MB): 15.30\n",
      "Estimated Total Size (MB): 189.14\n",
      "----------------------------------------------------------------\n"
     ]
    }
   ],
   "source": [
    "model_effnet = efficientnet_b0(weights=\"IMAGENET1K_V1\")\n",
    "model_effnet.features[0][0] = nn.Conv2d(1, 32, kernel_size=3, stride=2, padding=1, bias=False)\n",
    "model_effnet.classifier[1] = nn.Linear(model_effnet.classifier[1].in_features, 3)\n",
    "model_effnet.to(\"cuda\" if torch.cuda.is_available() else \"cpu\")\n",
    "\n",
    "summary(model_effnet, input_size=(1, 224, 224))"
   ]
  },
  {
   "cell_type": "code",
   "execution_count": 87,
   "id": "7795cfa9-525b-42fa-b95b-27227e0b7522",
   "metadata": {},
   "outputs": [
    {
     "name": "stdout",
     "output_type": "stream",
     "text": [
      "----------------------------------------------------------------\n",
      "        Layer (type)               Output Shape         Param #\n",
      "================================================================\n",
      "            Conv2d-1           [-1, 96, 56, 56]           1,632\n",
      "       LayerNorm2d-2           [-1, 96, 56, 56]             192\n",
      "            Conv2d-3           [-1, 96, 56, 56]           4,800\n",
      "           Permute-4           [-1, 56, 56, 96]               0\n",
      "         LayerNorm-5           [-1, 56, 56, 96]             192\n",
      "            Linear-6          [-1, 56, 56, 384]          37,248\n",
      "              GELU-7          [-1, 56, 56, 384]               0\n",
      "            Linear-8           [-1, 56, 56, 96]          36,960\n",
      "           Permute-9           [-1, 96, 56, 56]               0\n",
      "  StochasticDepth-10           [-1, 96, 56, 56]               0\n",
      "          CNBlock-11           [-1, 96, 56, 56]               0\n",
      "           Conv2d-12           [-1, 96, 56, 56]           4,800\n",
      "          Permute-13           [-1, 56, 56, 96]               0\n",
      "        LayerNorm-14           [-1, 56, 56, 96]             192\n",
      "           Linear-15          [-1, 56, 56, 384]          37,248\n",
      "             GELU-16          [-1, 56, 56, 384]               0\n",
      "           Linear-17           [-1, 56, 56, 96]          36,960\n",
      "          Permute-18           [-1, 96, 56, 56]               0\n",
      "  StochasticDepth-19           [-1, 96, 56, 56]               0\n",
      "          CNBlock-20           [-1, 96, 56, 56]               0\n",
      "           Conv2d-21           [-1, 96, 56, 56]           4,800\n",
      "          Permute-22           [-1, 56, 56, 96]               0\n",
      "        LayerNorm-23           [-1, 56, 56, 96]             192\n",
      "           Linear-24          [-1, 56, 56, 384]          37,248\n",
      "             GELU-25          [-1, 56, 56, 384]               0\n",
      "           Linear-26           [-1, 56, 56, 96]          36,960\n",
      "          Permute-27           [-1, 96, 56, 56]               0\n",
      "  StochasticDepth-28           [-1, 96, 56, 56]               0\n",
      "          CNBlock-29           [-1, 96, 56, 56]               0\n",
      "      LayerNorm2d-30           [-1, 96, 56, 56]             192\n",
      "           Conv2d-31          [-1, 192, 28, 28]          73,920\n",
      "           Conv2d-32          [-1, 192, 28, 28]           9,600\n",
      "          Permute-33          [-1, 28, 28, 192]               0\n",
      "        LayerNorm-34          [-1, 28, 28, 192]             384\n",
      "           Linear-35          [-1, 28, 28, 768]         148,224\n",
      "             GELU-36          [-1, 28, 28, 768]               0\n",
      "           Linear-37          [-1, 28, 28, 192]         147,648\n",
      "          Permute-38          [-1, 192, 28, 28]               0\n",
      "  StochasticDepth-39          [-1, 192, 28, 28]               0\n",
      "          CNBlock-40          [-1, 192, 28, 28]               0\n",
      "           Conv2d-41          [-1, 192, 28, 28]           9,600\n",
      "          Permute-42          [-1, 28, 28, 192]               0\n",
      "        LayerNorm-43          [-1, 28, 28, 192]             384\n",
      "           Linear-44          [-1, 28, 28, 768]         148,224\n",
      "             GELU-45          [-1, 28, 28, 768]               0\n",
      "           Linear-46          [-1, 28, 28, 192]         147,648\n",
      "          Permute-47          [-1, 192, 28, 28]               0\n",
      "  StochasticDepth-48          [-1, 192, 28, 28]               0\n",
      "          CNBlock-49          [-1, 192, 28, 28]               0\n",
      "           Conv2d-50          [-1, 192, 28, 28]           9,600\n",
      "          Permute-51          [-1, 28, 28, 192]               0\n",
      "        LayerNorm-52          [-1, 28, 28, 192]             384\n",
      "           Linear-53          [-1, 28, 28, 768]         148,224\n",
      "             GELU-54          [-1, 28, 28, 768]               0\n",
      "           Linear-55          [-1, 28, 28, 192]         147,648\n",
      "          Permute-56          [-1, 192, 28, 28]               0\n",
      "  StochasticDepth-57          [-1, 192, 28, 28]               0\n",
      "          CNBlock-58          [-1, 192, 28, 28]               0\n",
      "      LayerNorm2d-59          [-1, 192, 28, 28]             384\n",
      "           Conv2d-60          [-1, 384, 14, 14]         295,296\n",
      "           Conv2d-61          [-1, 384, 14, 14]          19,200\n",
      "          Permute-62          [-1, 14, 14, 384]               0\n",
      "        LayerNorm-63          [-1, 14, 14, 384]             768\n",
      "           Linear-64         [-1, 14, 14, 1536]         591,360\n",
      "             GELU-65         [-1, 14, 14, 1536]               0\n",
      "           Linear-66          [-1, 14, 14, 384]         590,208\n",
      "          Permute-67          [-1, 384, 14, 14]               0\n",
      "  StochasticDepth-68          [-1, 384, 14, 14]               0\n",
      "          CNBlock-69          [-1, 384, 14, 14]               0\n",
      "           Conv2d-70          [-1, 384, 14, 14]          19,200\n",
      "          Permute-71          [-1, 14, 14, 384]               0\n",
      "        LayerNorm-72          [-1, 14, 14, 384]             768\n",
      "           Linear-73         [-1, 14, 14, 1536]         591,360\n",
      "             GELU-74         [-1, 14, 14, 1536]               0\n",
      "           Linear-75          [-1, 14, 14, 384]         590,208\n",
      "          Permute-76          [-1, 384, 14, 14]               0\n",
      "  StochasticDepth-77          [-1, 384, 14, 14]               0\n",
      "          CNBlock-78          [-1, 384, 14, 14]               0\n",
      "           Conv2d-79          [-1, 384, 14, 14]          19,200\n",
      "          Permute-80          [-1, 14, 14, 384]               0\n",
      "        LayerNorm-81          [-1, 14, 14, 384]             768\n",
      "           Linear-82         [-1, 14, 14, 1536]         591,360\n",
      "             GELU-83         [-1, 14, 14, 1536]               0\n",
      "           Linear-84          [-1, 14, 14, 384]         590,208\n",
      "          Permute-85          [-1, 384, 14, 14]               0\n",
      "  StochasticDepth-86          [-1, 384, 14, 14]               0\n",
      "          CNBlock-87          [-1, 384, 14, 14]               0\n",
      "           Conv2d-88          [-1, 384, 14, 14]          19,200\n",
      "          Permute-89          [-1, 14, 14, 384]               0\n",
      "        LayerNorm-90          [-1, 14, 14, 384]             768\n",
      "           Linear-91         [-1, 14, 14, 1536]         591,360\n",
      "             GELU-92         [-1, 14, 14, 1536]               0\n",
      "           Linear-93          [-1, 14, 14, 384]         590,208\n",
      "          Permute-94          [-1, 384, 14, 14]               0\n",
      "  StochasticDepth-95          [-1, 384, 14, 14]               0\n",
      "          CNBlock-96          [-1, 384, 14, 14]               0\n",
      "           Conv2d-97          [-1, 384, 14, 14]          19,200\n",
      "          Permute-98          [-1, 14, 14, 384]               0\n",
      "        LayerNorm-99          [-1, 14, 14, 384]             768\n",
      "          Linear-100         [-1, 14, 14, 1536]         591,360\n",
      "            GELU-101         [-1, 14, 14, 1536]               0\n",
      "          Linear-102          [-1, 14, 14, 384]         590,208\n",
      "         Permute-103          [-1, 384, 14, 14]               0\n",
      " StochasticDepth-104          [-1, 384, 14, 14]               0\n",
      "         CNBlock-105          [-1, 384, 14, 14]               0\n",
      "          Conv2d-106          [-1, 384, 14, 14]          19,200\n",
      "         Permute-107          [-1, 14, 14, 384]               0\n",
      "       LayerNorm-108          [-1, 14, 14, 384]             768\n",
      "          Linear-109         [-1, 14, 14, 1536]         591,360\n",
      "            GELU-110         [-1, 14, 14, 1536]               0\n",
      "          Linear-111          [-1, 14, 14, 384]         590,208\n",
      "         Permute-112          [-1, 384, 14, 14]               0\n",
      " StochasticDepth-113          [-1, 384, 14, 14]               0\n",
      "         CNBlock-114          [-1, 384, 14, 14]               0\n",
      "          Conv2d-115          [-1, 384, 14, 14]          19,200\n",
      "         Permute-116          [-1, 14, 14, 384]               0\n",
      "       LayerNorm-117          [-1, 14, 14, 384]             768\n",
      "          Linear-118         [-1, 14, 14, 1536]         591,360\n",
      "            GELU-119         [-1, 14, 14, 1536]               0\n",
      "          Linear-120          [-1, 14, 14, 384]         590,208\n",
      "         Permute-121          [-1, 384, 14, 14]               0\n",
      " StochasticDepth-122          [-1, 384, 14, 14]               0\n",
      "         CNBlock-123          [-1, 384, 14, 14]               0\n",
      "          Conv2d-124          [-1, 384, 14, 14]          19,200\n",
      "         Permute-125          [-1, 14, 14, 384]               0\n",
      "       LayerNorm-126          [-1, 14, 14, 384]             768\n",
      "          Linear-127         [-1, 14, 14, 1536]         591,360\n",
      "            GELU-128         [-1, 14, 14, 1536]               0\n",
      "          Linear-129          [-1, 14, 14, 384]         590,208\n",
      "         Permute-130          [-1, 384, 14, 14]               0\n",
      " StochasticDepth-131          [-1, 384, 14, 14]               0\n",
      "         CNBlock-132          [-1, 384, 14, 14]               0\n",
      "          Conv2d-133          [-1, 384, 14, 14]          19,200\n",
      "         Permute-134          [-1, 14, 14, 384]               0\n",
      "       LayerNorm-135          [-1, 14, 14, 384]             768\n",
      "          Linear-136         [-1, 14, 14, 1536]         591,360\n",
      "            GELU-137         [-1, 14, 14, 1536]               0\n",
      "          Linear-138          [-1, 14, 14, 384]         590,208\n",
      "         Permute-139          [-1, 384, 14, 14]               0\n",
      " StochasticDepth-140          [-1, 384, 14, 14]               0\n",
      "         CNBlock-141          [-1, 384, 14, 14]               0\n",
      "     LayerNorm2d-142          [-1, 384, 14, 14]             768\n",
      "          Conv2d-143            [-1, 768, 7, 7]       1,180,416\n",
      "          Conv2d-144            [-1, 768, 7, 7]          38,400\n",
      "         Permute-145            [-1, 7, 7, 768]               0\n",
      "       LayerNorm-146            [-1, 7, 7, 768]           1,536\n",
      "          Linear-147           [-1, 7, 7, 3072]       2,362,368\n",
      "            GELU-148           [-1, 7, 7, 3072]               0\n",
      "          Linear-149            [-1, 7, 7, 768]       2,360,064\n",
      "         Permute-150            [-1, 768, 7, 7]               0\n",
      " StochasticDepth-151            [-1, 768, 7, 7]               0\n",
      "         CNBlock-152            [-1, 768, 7, 7]               0\n",
      "          Conv2d-153            [-1, 768, 7, 7]          38,400\n",
      "         Permute-154            [-1, 7, 7, 768]               0\n",
      "       LayerNorm-155            [-1, 7, 7, 768]           1,536\n",
      "          Linear-156           [-1, 7, 7, 3072]       2,362,368\n",
      "            GELU-157           [-1, 7, 7, 3072]               0\n",
      "          Linear-158            [-1, 7, 7, 768]       2,360,064\n",
      "         Permute-159            [-1, 768, 7, 7]               0\n",
      " StochasticDepth-160            [-1, 768, 7, 7]               0\n",
      "         CNBlock-161            [-1, 768, 7, 7]               0\n",
      "          Conv2d-162            [-1, 768, 7, 7]          38,400\n",
      "         Permute-163            [-1, 7, 7, 768]               0\n",
      "       LayerNorm-164            [-1, 7, 7, 768]           1,536\n",
      "          Linear-165           [-1, 7, 7, 3072]       2,362,368\n",
      "            GELU-166           [-1, 7, 7, 3072]               0\n",
      "          Linear-167            [-1, 7, 7, 768]       2,360,064\n",
      "         Permute-168            [-1, 768, 7, 7]               0\n",
      " StochasticDepth-169            [-1, 768, 7, 7]               0\n",
      "         CNBlock-170            [-1, 768, 7, 7]               0\n",
      "AdaptiveAvgPool2d-171            [-1, 768, 1, 1]               0\n",
      "     LayerNorm2d-172            [-1, 768, 1, 1]           1,536\n",
      "         Flatten-173                  [-1, 768]               0\n",
      "          Linear-174                    [-1, 3]           2,307\n",
      "================================================================\n",
      "Total params: 27,812,739\n",
      "Trainable params: 27,812,739\n",
      "Non-trainable params: 0\n",
      "----------------------------------------------------------------\n",
      "Input size (MB): 0.19\n",
      "Forward/backward pass size (MB): 256.12\n",
      "Params size (MB): 106.10\n",
      "Estimated Total Size (MB): 362.41\n",
      "----------------------------------------------------------------\n"
     ]
    }
   ],
   "source": [
    "model_convnext = convnext_tiny(weights=\"IMAGENET1K_V1\")\n",
    "model_convnext.features[0][0] = nn.Conv2d(1, 96, kernel_size=4, stride=4)\n",
    "model_convnext.classifier[2] = nn.Linear(model_convnext.classifier[2].in_features, 3)\n",
    "model_convnext.to(\"cuda\" if torch.cuda.is_available() else \"cpu\")\n",
    "\n",
    "summary(model_convnext, input_size=(1, 224, 224))\n"
   ]
  },
  {
   "cell_type": "code",
   "execution_count": null,
   "id": "adb1f1f5-8188-4839-87ca-a52de126b071",
   "metadata": {},
   "outputs": [
    {
     "data": {
      "image/png": "[encoded data removed]",
      "text/plain": [
       "<Figure size 1200x400 with 3 Axes>"
      ]
     },
     "metadata": {},
     "output_type": "display_data"
    }
   ],
   "source": [
    "import matplotlib.pyplot as plt\n",
    "import numpy as np\n",
    "\n",
    "# Load dataset\n",
    "dataset = CTSliceDataset(r\"F:\\INT500\\CLAUDE\\processed_data\\metadata.csv\", augment=False)\n",
    "\n",
    "# Label mapping\n",
    "label_names = {0: \"Stage II\", 1: \"Stage III\", 2: \"Stage IV\"}\n",
    "seen = set()\n",
    "\n",
    "plt.figure(figsize=(12, 4))\n",
    "\n",
    "# Loop through dataset and find one example of each class\n",
    "for idx in range(len(dataset)):\n",
    "    image, label = dataset[idx]\n",
    "    label = label.item()\n",
    "    if label not in seen:\n",
    "        seen.add(label)\n",
    "        plt.subplot(1, 3, len(seen))\n",
    "        plt.imshow(image.squeeze(0), cmap='gray')\n",
    "        plt.title(label_names[label])\n",
    "        plt.axis('off')\n",
    "    if len(seen) == 3:\n",
    "        break\n",
    "\n",
    "plt.suptitle(\"Sample CT Slices from Each Class\", fontsize=14)\n",
    "plt.tight_layout()\n",
    "plt.show()\n"
   ]
  }
 ],
 "metadata": {
  "kernelspec": {
   "display_name": "Python 3 (ipykernel)",
   "language": "python",
   "name": "python3"
  },
  "language_info": {
   "codemirror_mode": {
    "name": "ipython",
    "version": 3
   },
   "file_extension": ".py",
   "mimetype": "text/x-python",
   "name": "python",
   "nbconvert_exporter": "python",
   "pygments_lexer": "ipython3",
   "version": "3.12.7"
  }
 },
 "nbformat": 4,
 "nbformat_minor": 5
}
